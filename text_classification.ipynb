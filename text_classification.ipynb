{
 "cells": [
  {
   "cell_type": "markdown",
   "id": "32f7a38f",
   "metadata": {
    "tags": []
   },
   "source": [
    "# 1. Goal\n",
    "<hr style=\"border:2px solid gray\">"
   ]
  },
  {
   "cell_type": "markdown",
   "id": "4049f90d",
   "metadata": {},
   "source": [
    "In this project, we will build a text classification model on song lyrics. The task is to predict the artist from a piece of text."
   ]
  },
  {
   "cell_type": "markdown",
   "id": "a328989a",
   "metadata": {
    "tags": []
   },
   "source": [
    "# 2. Data Collection\n",
    "<hr style=\"border:2px solid gray\">"
   ]
  },
  {
   "cell_type": "markdown",
   "id": "c1e2acfe",
   "metadata": {},
   "source": [
    "Run code from [github](https://github.com/tamimibrahim17/List-of-user-agents) in getting user agents and save it on your local folder. We can then read the files and get a random user agent"
   ]
  },
  {
   "cell_type": "code",
   "execution_count": 1,
   "id": "2d6e1c1a",
   "metadata": {},
   "outputs": [
    {
     "data": {
      "text/plain": [
       "<module 'generic_functions' from '/Users/nadine/Documents/Spiced_Academy/github/vectorized-vegeta-student-code/week_04/project_code/generic_functions.py'>"
      ]
     },
     "execution_count": 1,
     "metadata": {},
     "output_type": "execute_result"
    }
   ],
   "source": [
    "import random, requests, time, re, importlib, string\n",
    "from difflib import SequenceMatcher\n",
    "import pandas as pd\n",
    "from bs4 import BeautifulSoup\n",
    "\n",
    "from sklearn import set_config\n",
    "set_config(transform_output='pandas')\n",
    "\n",
    "# import customized module\n",
    "import generic_functions as gf\n",
    "\n",
    "# reload module if it has been updated\n",
    "importlib.reload(gf)"
   ]
  },
  {
   "cell_type": "markdown",
   "id": "6294d567",
   "metadata": {
    "tags": []
   },
   "source": [
    "### Create the list of artists and their URLs"
   ]
  },
  {
   "cell_type": "code",
   "execution_count": 2,
   "id": "6f85fcb6-6d3d-4e4e-8396-edb94ff95689",
   "metadata": {},
   "outputs": [],
   "source": [
    "# url_list = ['https://www.lyrics.com/artist/Maroon-5/529962','https://www.lyrics.com/artist/Backstreet-Boys/199819']\n",
    "# artist_list = ['maroon_5','backstreet_boys']\n",
    "url_list = ['https://www.lyrics.com/artist/Spice-Girls/199833','https://www.lyrics.com/artist/My-Chemical-Romance/533805']\n",
    "artist_list = ['spice_girls','my_chemical_romance']"
   ]
  },
  {
   "cell_type": "markdown",
   "id": "ed943a7a-3973-485e-b45a-716e48dc26a3",
   "metadata": {},
   "source": [
    "### Scrape html page of each artist and write to file"
   ]
  },
  {
   "cell_type": "code",
   "execution_count": 4,
   "id": "53a4c7a7-a88d-420b-8c6f-e04c78357b60",
   "metadata": {},
   "outputs": [],
   "source": [
    "for idx in range(len(url_list)):\n",
    "    response = requests.get(url_list[idx], headers=gf.get_header())\n",
    "    gf.write_file(response.text, f'{artist_list[idx]}.html')"
   ]
  },
  {
   "cell_type": "markdown",
   "id": "2e21e5f7-a65c-49ab-b266-8e68e5bb9782",
   "metadata": {},
   "source": [
    "### Read created artist files (get list of songs and links)"
   ]
  },
  {
   "cell_type": "code",
   "execution_count": 6,
   "id": "23acf638-1fd2-40c8-b99a-c4a2702ad158",
   "metadata": {},
   "outputs": [],
   "source": [
    "def get_info(artist):\n",
    "    base_url = 'https://www.lyrics.com'\n",
    "    filename = f'{artist}.html'\n",
    "    \n",
    "    # define list\n",
    "    song_list = list()\n",
    "    \n",
    "    html_doc = gf.read_file(f'{artist}/{filename}')\n",
    "    \n",
    "    # create a BeautifulSoup object from the HTML\n",
    "    soup = BeautifulSoup(markup=html_doc, features='html.parser')\n",
    "    \n",
    "    # find all <a> tags with href that contains '/lyric/'\n",
    "    links = soup.find_all('a',href=lambda href: href and '/lyric/' in href)\n",
    "    \n",
    "    # create the url and get the song titles\n",
    "    for link in links:\n",
    "        # song_list.append([base_url+link.get('href'), link.text, artist])\n",
    "        song_list.append([base_url+link.get('href'), gf.format_title(link.text), artist])\n",
    "\n",
    "    #artist.replace('_',' ').title()\n",
    "    df_songs = pd.DataFrame(song_list, columns=['link','title','artist'])\n",
    "\n",
    "    # drop duplicates\n",
    "    df_songs.drop_duplicates(subset=['title'], keep='first',inplace=True, ignore_index=True)\n",
    "\n",
    "    # export to check values\n",
    "    # df_songs.to_csv(f'{artist}_before_format.csv', index=False)\n",
    "    # df_songs.to_csv(f'{artist}_after_format.csv', index=False)\n",
    "\n",
    "    return df_songs\n",
    "    "
   ]
  },
  {
   "cell_type": "code",
   "execution_count": 7,
   "id": "70da3f1d",
   "metadata": {
    "tags": []
   },
   "outputs": [
    {
     "name": "stdout",
     "output_type": "stream",
     "text": [
      "time taken: 1.34 sec\n"
     ]
    }
   ],
   "source": [
    "# initial time\n",
    "ti = time.time()\n",
    "\n",
    "df_all_songs = pd.DataFrame()\n",
    "\n",
    "for artist in artist_list:\n",
    "    df_artist_songs = get_info(artist)\n",
    "    df_all_songs = pd.concat([df_all_songs,df_artist_songs],ignore_index=True)\n",
    "\n",
    "# final time \n",
    "tf = time.time()\n",
    "\n",
    "# time taken\n",
    "print(f\"time taken: {round(tf-ti,2)} sec\")"
   ]
  },
  {
   "cell_type": "code",
   "execution_count": 8,
   "id": "d9d165f1-727d-4f3d-b2f6-7fd4f7d47593",
   "metadata": {},
   "outputs": [
    {
     "data": {
      "text/html": [
       "<div>\n",
       "<style scoped>\n",
       "    .dataframe tbody tr th:only-of-type {\n",
       "        vertical-align: middle;\n",
       "    }\n",
       "\n",
       "    .dataframe tbody tr th {\n",
       "        vertical-align: top;\n",
       "    }\n",
       "\n",
       "    .dataframe thead th {\n",
       "        text-align: right;\n",
       "    }\n",
       "</style>\n",
       "<table border=\"1\" class=\"dataframe\">\n",
       "  <thead>\n",
       "    <tr style=\"text-align: right;\">\n",
       "      <th></th>\n",
       "      <th>link</th>\n",
       "      <th>title</th>\n",
       "      <th>artist</th>\n",
       "    </tr>\n",
       "  </thead>\n",
       "  <tbody>\n",
       "    <tr>\n",
       "      <th>0</th>\n",
       "      <td>https://www.lyrics.com/lyric/35092433/Spice+Gi...</td>\n",
       "      <td>Wannabe</td>\n",
       "      <td>spice_girls</td>\n",
       "    </tr>\n",
       "    <tr>\n",
       "      <th>1</th>\n",
       "      <td>https://www.lyrics.com/lyric/35074610/Spice+Gi...</td>\n",
       "      <td>Mama</td>\n",
       "      <td>spice_girls</td>\n",
       "    </tr>\n",
       "    <tr>\n",
       "      <th>2</th>\n",
       "      <td>https://www.lyrics.com/lyric/35134498/Spice+Gi...</td>\n",
       "      <td>In_The_Summertime</td>\n",
       "      <td>spice_girls</td>\n",
       "    </tr>\n",
       "    <tr>\n",
       "      <th>3</th>\n",
       "      <td>https://www.lyrics.com/lyric/35134496/Spice+Gi...</td>\n",
       "      <td>Spice_Up_Your_Life</td>\n",
       "      <td>spice_girls</td>\n",
       "    </tr>\n",
       "    <tr>\n",
       "      <th>4</th>\n",
       "      <td>https://www.lyrics.com/lyric/30734178/Spice+Gi...</td>\n",
       "      <td>Stop</td>\n",
       "      <td>spice_girls</td>\n",
       "    </tr>\n",
       "    <tr>\n",
       "      <th>...</th>\n",
       "      <td>...</td>\n",
       "      <td>...</td>\n",
       "      <td>...</td>\n",
       "    </tr>\n",
       "    <tr>\n",
       "      <th>135</th>\n",
       "      <td>https://www.lyrics.com/lyric/28903492/My+Chemi...</td>\n",
       "      <td>The_World_Is_Ugly</td>\n",
       "      <td>my_chemical_romance</td>\n",
       "    </tr>\n",
       "    <tr>\n",
       "      <th>136</th>\n",
       "      <td>https://www.lyrics.com/lyric/28903491/My+Chemi...</td>\n",
       "      <td>The_Light_Behind_Your_Eyes</td>\n",
       "      <td>my_chemical_romance</td>\n",
       "    </tr>\n",
       "    <tr>\n",
       "      <th>137</th>\n",
       "      <td>https://www.lyrics.com/lyric/28902952/My+Chemi...</td>\n",
       "      <td>Kiss_The_Ring</td>\n",
       "      <td>my_chemical_romance</td>\n",
       "    </tr>\n",
       "    <tr>\n",
       "      <th>138</th>\n",
       "      <td>https://www.lyrics.com/lyric/28902951/My+Chemi...</td>\n",
       "      <td>Make_Room!!!!</td>\n",
       "      <td>my_chemical_romance</td>\n",
       "    </tr>\n",
       "    <tr>\n",
       "      <th>139</th>\n",
       "      <td>https://www.lyrics.com/lyric/8715504/My+Chemic...</td>\n",
       "      <td>Cemetary_Drive</td>\n",
       "      <td>my_chemical_romance</td>\n",
       "    </tr>\n",
       "  </tbody>\n",
       "</table>\n",
       "<p>140 rows × 3 columns</p>\n",
       "</div>"
      ],
      "text/plain": [
       "                                                  link  \\\n",
       "0    https://www.lyrics.com/lyric/35092433/Spice+Gi...   \n",
       "1    https://www.lyrics.com/lyric/35074610/Spice+Gi...   \n",
       "2    https://www.lyrics.com/lyric/35134498/Spice+Gi...   \n",
       "3    https://www.lyrics.com/lyric/35134496/Spice+Gi...   \n",
       "4    https://www.lyrics.com/lyric/30734178/Spice+Gi...   \n",
       "..                                                 ...   \n",
       "135  https://www.lyrics.com/lyric/28903492/My+Chemi...   \n",
       "136  https://www.lyrics.com/lyric/28903491/My+Chemi...   \n",
       "137  https://www.lyrics.com/lyric/28902952/My+Chemi...   \n",
       "138  https://www.lyrics.com/lyric/28902951/My+Chemi...   \n",
       "139  https://www.lyrics.com/lyric/8715504/My+Chemic...   \n",
       "\n",
       "                          title               artist  \n",
       "0                       Wannabe          spice_girls  \n",
       "1                          Mama          spice_girls  \n",
       "2             In_The_Summertime          spice_girls  \n",
       "3            Spice_Up_Your_Life          spice_girls  \n",
       "4                          Stop          spice_girls  \n",
       "..                          ...                  ...  \n",
       "135           The_World_Is_Ugly  my_chemical_romance  \n",
       "136  The_Light_Behind_Your_Eyes  my_chemical_romance  \n",
       "137               Kiss_The_Ring  my_chemical_romance  \n",
       "138               Make_Room!!!!  my_chemical_romance  \n",
       "139              Cemetary_Drive  my_chemical_romance  \n",
       "\n",
       "[140 rows x 3 columns]"
      ]
     },
     "execution_count": 8,
     "metadata": {},
     "output_type": "execute_result"
    }
   ],
   "source": [
    "# check the df\n",
    "df_all_songs"
   ]
  },
  {
   "cell_type": "markdown",
   "id": "b2d0d8d5-0c8b-4921-af13-d1d3feef3b5e",
   "metadata": {},
   "source": [
    "### Loop through each title and link, to scrape the website and save the lyrics of each song"
   ]
  },
  {
   "cell_type": "code",
   "execution_count": 9,
   "id": "e9362b98-2649-4dcd-9059-d71ce279232d",
   "metadata": {
    "tags": []
   },
   "outputs": [
    {
     "name": "stdout",
     "output_type": "stream",
     "text": [
      "spice_girls/0_Wannabe.html\n",
      "spice_girls/1_Mama.html\n",
      "spice_girls/2_In_The_Summertime.html\n",
      "spice_girls/3_Spice_Up_Your_Life.html\n",
      "spice_girls/4_Stop.html\n",
      "spice_girls/5_2_Become_1.html\n",
      "spice_girls/6_Who_Do_You_Think_You_Are.html\n",
      "spice_girls/7_2_Become_One.html\n",
      "spice_girls/8_Christmas_Wrapping.html\n",
      "spice_girls/9_Too_Much.html\n",
      "spice_girls/10_Sleigh_Ride.html\n",
      "spice_girls/11_Say_You'll_Be_There.html\n",
      "spice_girls/12_Move_Over.html\n",
      "spice_girls/13_Viva_Forever.html\n",
      "spice_girls/14_Let_Love_Lead_The_Way.html\n",
      "spice_girls/15_Holler.html\n",
      "spice_girls/16_Headlines.html\n",
      "spice_girls/17_Voodoo.html\n",
      "spice_girls/18_Goodbye.html\n",
      "spice_girls/19_Tell_Me_Why.html\n",
      "spice_girls/20_Can_I_Get_Wit'cha?.html\n",
      "spice_girls/21_Please_Come_Home_For_Christmas.html\n",
      "spice_girls/22_Christmas_Wrappping.html\n",
      "spice_girls/23_Right_Back_At_Ya.html\n",
      "spice_girls/24_Get_Down_With_Me.html\n",
      "spice_girls/25_Wasting_My_Time.html\n",
      "spice_girls/26_Weekend_Love.html\n",
      "spice_girls/27_Time_Goes_By.html\n",
      "spice_girls/28_If_You_Wanna_Have_Some_Fun.html\n",
      "spice_girls/29_Oxygen.html\n",
      "spice_girls/30_Never_Give_Up_On_The_Good_Times.html\n",
      "spice_girls/31_My_Strongest_Suit.html\n",
      "spice_girls/32_If_U_Can't_Dance.html\n",
      "spice_girls/33_Step_To_Me.html\n",
      "spice_girls/34_The_Lady_Is_A_Vamp.html\n",
      "spice_girls/35_Outer_Space_Girls.html\n",
      "spice_girls/36_Saturday_Night_Divas.html\n",
      "spice_girls/37_Naked.html\n",
      "spice_girls/38_Denying.html\n",
      "spice_girls/39_Love_Thing.html\n",
      "spice_girls/40_Baby_Come_Round.html\n",
      "spice_girls/41_Walk_Of_Life.html\n",
      "spice_girls/42_Ain't_No_Stoppin'_Us_Now.html\n",
      "spice_girls/43_Something_Kinda_Funny.html\n",
      "spice_girls/44_Bumper_To_Bumper.html\n",
      "spice_girls/45_One_Of_These_Girls.html\n",
      "spice_girls/46_Take_Me_Home.html\n",
      "spice_girls/47_Spice_Invaders.html\n",
      "spice_girls/48_Do_It.html\n",
      "spice_girls/49_Last_Time_Lover.html\n",
      "spice_girls/50_Two_Become_One.html\n",
      "spice_girls/51_Lady_Is_A_Vamp.html\n",
      "spice_girls/52_Santa_Claus_Is_Coming_To_Town.html\n",
      "spice_girls/53_We_Are_Family.html\n",
      "spice_girls/54_Feed_Your_Love.html\n",
      "my_chemical_romance/55_Teenagers.html\n",
      "my_chemical_romance/56_Welcome_To_The_Black_Parade.html\n",
      "my_chemical_romance/57_All_I_Want_For_Christmas_Is_You.html\n",
      "my_chemical_romance/58_All_I_Want_For_Christmas.html\n",
      "my_chemical_romance/59_The_End.html\n",
      "my_chemical_romance/60_The_Sharpest_Lives.html\n",
      "my_chemical_romance/61_I_Don't_Love_You.html\n",
      "my_chemical_romance/62_House_Of_Wolves.html\n",
      "my_chemical_romance/63_Cancer.html\n",
      "my_chemical_romance/64_Mama.html\n",
      "my_chemical_romance/65_Sleep.html\n",
      "my_chemical_romance/66_Disenchanted.html\n",
      "my_chemical_romance/67_Famous_Last_Words.html\n",
      "my_chemical_romance/68_The_End..html\n",
      "my_chemical_romance/69_Dead!.html\n",
      "my_chemical_romance/70_Blood.html\n",
      "my_chemical_romance/71_Fake_Your_Death.html\n",
      "my_chemical_romance/72_Vampires_Will_Never_Hurt_You.html\n",
      "my_chemical_romance/73_Helena.html\n",
      "my_chemical_romance/74_You_Know_What_They_Do_To_Guys_Like_Us_In_Prison.html\n",
      "my_chemical_romance/75_I'm_Not_Okay.html\n",
      "my_chemical_romance/76_The_Ghost_Of_You.html\n",
      "my_chemical_romance/77_Na_Na_Na.html\n",
      "my_chemical_romance/78_Sing.html\n",
      "my_chemical_romance/79_Planetary.html\n",
      "my_chemical_romance/80_Skylines_And_Turnstiles.html\n",
      "my_chemical_romance/81_Cubicles.html\n",
      "my_chemical_romance/82_Make_Room.html\n",
      "my_chemical_romance/83_Surrender_The_Night.html\n",
      "my_chemical_romance/84_Burn_Bright.html\n",
      "my_chemical_romance/85_Desolation_Row.html\n",
      "my_chemical_romance/86_Gun.html\n",
      "my_chemical_romance/87_The_Only_Hope_For_Me_Is_You.html\n",
      "my_chemical_romance/88_Look_Alive,_Sunshine.html\n",
      "my_chemical_romance/89_Bulletproof_Heart.html\n",
      "my_chemical_romance/90_Jet-star_And_The_Kobra_Kid(traffic_Report).html\n",
      "my_chemical_romance/91_Party_Poison.html\n",
      "my_chemical_romance/92_Save_Yourself,_I'll_Hold_Them_Back.html\n",
      "my_chemical_romance/93_S(c(a(r(e(c(r(o(w).html\n",
      "my_chemical_romance/94_Summertime.html\n",
      "my_chemical_romance/95_Destroya.html\n",
      "my_chemical_romance/96_The_Kids_From_Yesterday.html\n",
      "my_chemical_romance/97_Goodnite,_Dr._Death.html\n",
      "my_chemical_romance/98_Vampire_Money.html\n",
      "my_chemical_romance/99_This_Is_How_I_Disappear.html\n",
      "my_chemical_romance/100_Interlude.html\n",
      "my_chemical_romance/101_The_Black_Parade_Is_Dead.html\n",
      "my_chemical_romance/102_It's_Not_A_Fashion_Statement_It's_A_Deathwish.html\n",
      "my_chemical_romance/103_Welcom_To_The_Black_Parade.html\n",
      "my_chemical_romance/104_My_Way_Home_Is_Through_You.html\n",
      "my_chemical_romance/105_Kill_All_Your_Friends.html\n",
      "my_chemical_romance/106_Heaven_Help_Us.html\n",
      "my_chemical_romance/107_Thank_You_For_The_Venom.html\n",
      "my_chemical_romance/108_Cemetery_Drive.html\n",
      "my_chemical_romance/109_Give_'em_Hell,_Kid.html\n",
      "my_chemical_romance/110_Headfirst_For_Halos.html\n",
      "my_chemical_romance/111_I_Never_Told_You_What_I_Do_For_A_Living.html\n",
      "my_chemical_romance/112_Bury_Me_In_Black.html\n",
      "my_chemical_romance/113_Desert_Song.html\n",
      "my_chemical_romance/114_Song_2.html\n",
      "my_chemical_romance/115_Welcome_To_My_Black_Parade.html\n",
      "my_chemical_romance/116_Astro_Zombies.html\n",
      "my_chemical_romance/117_Under_Pressure.html\n",
      "my_chemical_romance/118_To_The_End.html\n",
      "my_chemical_romance/119_The_Jetset_Life_Is_Gonna_Kill_You.html\n",
      "my_chemical_romance/120_Hang_'em_High.html\n",
      "my_chemical_romance/121_It's_Not_A_Fashion_Statement,_It's_A_Deathwish.html\n",
      "my_chemical_romance/122_Ghost_Of_You.html\n",
      "my_chemical_romance/123_Jetset_Life_Is_Gonna_Kill_You.html\n",
      "my_chemical_romance/124_Romance.html\n",
      "my_chemical_romance/125_Honey,_This_Mirror_Isn't_Big_Enough_For_The_Two_Of_Us.html\n",
      "my_chemical_romance/126_Drowning_Lessons.html\n",
      "my_chemical_romance/127_Our_Lady_Of_Sorrows.html\n",
      "my_chemical_romance/128_Early_Sunsets_Over_Monroeville.html\n",
      "my_chemical_romance/129_This_Is_The_Best_Day_Ever.html\n",
      "my_chemical_romance/130_Demolition_Lovers.html\n",
      "my_chemical_romance/131_Boy_Division.html\n",
      "my_chemical_romance/132_Tomorrow's_Money.html\n",
      "my_chemical_romance/133_Ambulance.html\n",
      "my_chemical_romance/134_Gun..html\n",
      "my_chemical_romance/135_The_World_Is_Ugly.html\n",
      "my_chemical_romance/136_The_Light_Behind_Your_Eyes.html\n",
      "my_chemical_romance/137_Kiss_The_Ring.html\n",
      "my_chemical_romance/138_Make_Room!!!!.html\n",
      "my_chemical_romance/139_Cemetary_Drive.html\n",
      "time taken: 476.65 sec\n"
     ]
    }
   ],
   "source": [
    "# initial time\n",
    "ti = time.time()\n",
    "\n",
    "for idx,data in df_all_songs.iterrows():\n",
    "    response = requests.get(data['link'], headers=gf.get_header())\n",
    "    filename = f\"{data['artist']}/{idx}_{data['title']}.html\"\n",
    "    print(filename)\n",
    "    gf.write_file(response.text, filename)\n",
    "    time.sleep(random.randint(1,3))\n",
    "\n",
    "# final time \n",
    "tf = time.time()\n",
    "\n",
    "# time taken\n",
    "print(f\"time taken: {round(tf-ti,2)} sec\")"
   ]
  },
  {
   "cell_type": "markdown",
   "id": "fc460940-302c-4343-8ce4-b326a4db245e",
   "metadata": {},
   "source": [
    "### Read the saved lyrics and add it to the dataframe: df_all_songs"
   ]
  },
  {
   "cell_type": "code",
   "execution_count": 10,
   "id": "c718d620-775d-4f88-91e4-ee3656482778",
   "metadata": {
    "tags": []
   },
   "outputs": [
    {
     "name": "stdout",
     "output_type": "stream",
     "text": [
      "spice_girls/0_Wannabe.html\n",
      "spice_girls/1_Mama.html\n",
      "spice_girls/2_In_The_Summertime.html\n",
      "spice_girls/3_Spice_Up_Your_Life.html\n",
      "spice_girls/4_Stop.html\n",
      "spice_girls/5_2_Become_1.html\n",
      "spice_girls/6_Who_Do_You_Think_You_Are.html\n",
      "spice_girls/7_2_Become_One.html\n",
      "spice_girls/8_Christmas_Wrapping.html\n",
      "spice_girls/9_Too_Much.html\n",
      "spice_girls/10_Sleigh_Ride.html\n",
      "spice_girls/11_Say_You'll_Be_There.html\n",
      "spice_girls/12_Move_Over.html\n",
      "spice_girls/13_Viva_Forever.html\n",
      "spice_girls/14_Let_Love_Lead_The_Way.html\n",
      "spice_girls/15_Holler.html\n",
      "spice_girls/16_Headlines.html\n",
      "spice_girls/17_Voodoo.html\n",
      "spice_girls/18_Goodbye.html\n",
      "spice_girls/19_Tell_Me_Why.html\n",
      "spice_girls/20_Can_I_Get_Wit'cha?.html\n",
      "spice_girls/21_Please_Come_Home_For_Christmas.html\n",
      "spice_girls/22_Christmas_Wrappping.html\n",
      "spice_girls/23_Right_Back_At_Ya.html\n",
      "spice_girls/24_Get_Down_With_Me.html\n",
      "spice_girls/25_Wasting_My_Time.html\n",
      "spice_girls/26_Weekend_Love.html\n",
      "spice_girls/27_Time_Goes_By.html\n",
      "spice_girls/28_If_You_Wanna_Have_Some_Fun.html\n",
      "spice_girls/29_Oxygen.html\n",
      "spice_girls/30_Never_Give_Up_On_The_Good_Times.html\n",
      "spice_girls/31_My_Strongest_Suit.html\n",
      "spice_girls/32_If_U_Can't_Dance.html\n",
      "spice_girls/33_Step_To_Me.html\n",
      "spice_girls/34_The_Lady_Is_A_Vamp.html\n",
      "spice_girls/35_Outer_Space_Girls.html\n",
      "spice_girls/36_Saturday_Night_Divas.html\n",
      "spice_girls/37_Naked.html\n",
      "spice_girls/38_Denying.html\n",
      "spice_girls/39_Love_Thing.html\n",
      "spice_girls/40_Baby_Come_Round.html\n",
      "spice_girls/41_Walk_Of_Life.html\n",
      "spice_girls/42_Ain't_No_Stoppin'_Us_Now.html\n",
      "spice_girls/43_Something_Kinda_Funny.html\n",
      "spice_girls/44_Bumper_To_Bumper.html\n",
      "spice_girls/45_One_Of_These_Girls.html\n",
      "spice_girls/46_Take_Me_Home.html\n",
      "spice_girls/47_Spice_Invaders.html\n",
      "spice_girls/48_Do_It.html\n",
      "spice_girls/49_Last_Time_Lover.html\n",
      "spice_girls/50_Two_Become_One.html\n",
      "spice_girls/51_Lady_Is_A_Vamp.html\n",
      "spice_girls/52_Santa_Claus_Is_Coming_To_Town.html\n",
      "spice_girls/53_We_Are_Family.html\n",
      "spice_girls/54_Feed_Your_Love.html\n",
      "my_chemical_romance/55_Teenagers.html\n",
      "my_chemical_romance/56_Welcome_To_The_Black_Parade.html\n",
      "my_chemical_romance/57_All_I_Want_For_Christmas_Is_You.html\n",
      "my_chemical_romance/58_All_I_Want_For_Christmas.html\n",
      "my_chemical_romance/59_The_End.html\n",
      "my_chemical_romance/60_The_Sharpest_Lives.html\n",
      "my_chemical_romance/61_I_Don't_Love_You.html\n",
      "my_chemical_romance/62_House_Of_Wolves.html\n",
      "my_chemical_romance/63_Cancer.html\n",
      "my_chemical_romance/64_Mama.html\n",
      "my_chemical_romance/65_Sleep.html\n",
      "my_chemical_romance/66_Disenchanted.html\n",
      "my_chemical_romance/67_Famous_Last_Words.html\n",
      "my_chemical_romance/68_The_End..html\n",
      "my_chemical_romance/69_Dead!.html\n",
      "my_chemical_romance/70_Blood.html\n",
      "my_chemical_romance/71_Fake_Your_Death.html\n",
      "my_chemical_romance/72_Vampires_Will_Never_Hurt_You.html\n",
      "my_chemical_romance/73_Helena.html\n",
      "my_chemical_romance/74_You_Know_What_They_Do_To_Guys_Like_Us_In_Prison.html\n",
      "my_chemical_romance/75_I'm_Not_Okay.html\n",
      "my_chemical_romance/76_The_Ghost_Of_You.html\n",
      "my_chemical_romance/77_Na_Na_Na.html\n",
      "my_chemical_romance/78_Sing.html\n",
      "my_chemical_romance/79_Planetary.html\n",
      "my_chemical_romance/80_Skylines_And_Turnstiles.html\n",
      "my_chemical_romance/81_Cubicles.html\n",
      "my_chemical_romance/82_Make_Room.html\n",
      "my_chemical_romance/83_Surrender_The_Night.html\n",
      "my_chemical_romance/84_Burn_Bright.html\n",
      "my_chemical_romance/85_Desolation_Row.html\n",
      "my_chemical_romance/86_Gun.html\n",
      "my_chemical_romance/87_The_Only_Hope_For_Me_Is_You.html\n",
      "my_chemical_romance/88_Look_Alive,_Sunshine.html\n",
      "my_chemical_romance/89_Bulletproof_Heart.html\n",
      "my_chemical_romance/90_Jet-star_And_The_Kobra_Kid(traffic_Report).html\n",
      "my_chemical_romance/91_Party_Poison.html\n",
      "my_chemical_romance/92_Save_Yourself,_I'll_Hold_Them_Back.html\n",
      "my_chemical_romance/93_S(c(a(r(e(c(r(o(w).html\n",
      "my_chemical_romance/94_Summertime.html\n",
      "my_chemical_romance/95_Destroya.html\n",
      "my_chemical_romance/96_The_Kids_From_Yesterday.html\n",
      "my_chemical_romance/97_Goodnite,_Dr._Death.html\n",
      "my_chemical_romance/98_Vampire_Money.html\n",
      "my_chemical_romance/99_This_Is_How_I_Disappear.html\n",
      "my_chemical_romance/100_Interlude.html\n",
      "my_chemical_romance/101_The_Black_Parade_Is_Dead.html\n",
      "my_chemical_romance/102_It's_Not_A_Fashion_Statement_It's_A_Deathwish.html\n",
      "my_chemical_romance/103_Welcom_To_The_Black_Parade.html\n",
      "my_chemical_romance/104_My_Way_Home_Is_Through_You.html\n",
      "my_chemical_romance/105_Kill_All_Your_Friends.html\n",
      "my_chemical_romance/106_Heaven_Help_Us.html\n",
      "my_chemical_romance/107_Thank_You_For_The_Venom.html\n",
      "my_chemical_romance/108_Cemetery_Drive.html\n",
      "my_chemical_romance/109_Give_'em_Hell,_Kid.html\n",
      "my_chemical_romance/110_Headfirst_For_Halos.html\n",
      "my_chemical_romance/111_I_Never_Told_You_What_I_Do_For_A_Living.html\n",
      "my_chemical_romance/112_Bury_Me_In_Black.html\n",
      "my_chemical_romance/113_Desert_Song.html\n",
      "my_chemical_romance/114_Song_2.html\n",
      "my_chemical_romance/115_Welcome_To_My_Black_Parade.html\n",
      "my_chemical_romance/116_Astro_Zombies.html\n",
      "my_chemical_romance/117_Under_Pressure.html\n",
      "my_chemical_romance/118_To_The_End.html\n",
      "my_chemical_romance/119_The_Jetset_Life_Is_Gonna_Kill_You.html\n",
      "my_chemical_romance/120_Hang_'em_High.html\n",
      "my_chemical_romance/121_It's_Not_A_Fashion_Statement,_It's_A_Deathwish.html\n",
      "my_chemical_romance/122_Ghost_Of_You.html\n",
      "my_chemical_romance/123_Jetset_Life_Is_Gonna_Kill_You.html\n",
      "my_chemical_romance/124_Romance.html\n",
      "my_chemical_romance/125_Honey,_This_Mirror_Isn't_Big_Enough_For_The_Two_Of_Us.html\n",
      "my_chemical_romance/126_Drowning_Lessons.html\n",
      "my_chemical_romance/127_Our_Lady_Of_Sorrows.html\n",
      "my_chemical_romance/128_Early_Sunsets_Over_Monroeville.html\n",
      "my_chemical_romance/129_This_Is_The_Best_Day_Ever.html\n",
      "my_chemical_romance/130_Demolition_Lovers.html\n",
      "my_chemical_romance/131_Boy_Division.html\n",
      "my_chemical_romance/132_Tomorrow's_Money.html\n",
      "my_chemical_romance/133_Ambulance.html\n",
      "my_chemical_romance/134_Gun..html\n",
      "my_chemical_romance/135_The_World_Is_Ugly.html\n",
      "my_chemical_romance/136_The_Light_Behind_Your_Eyes.html\n",
      "my_chemical_romance/137_Kiss_The_Ring.html\n",
      "my_chemical_romance/138_Make_Room!!!!.html\n",
      "my_chemical_romance/139_Cemetary_Drive.html\n"
     ]
    }
   ],
   "source": [
    "for idx,data in df_all_songs.iterrows():\n",
    "    filename = f\"{data['artist']}/{idx}_{data['title']}.html\"\n",
    "    print(filename)\n",
    "    df_all_songs.loc[idx,'lyrics'] = gf.get_lyrics(filename)"
   ]
  },
  {
   "cell_type": "code",
   "execution_count": 588,
   "id": "2c41afc9-f4fb-4e21-8e35-84dc505fb094",
   "metadata": {
    "tags": []
   },
   "outputs": [
    {
     "name": "stdout",
     "output_type": "stream",
     "text": [
      "<class 'pandas.core.frame.DataFrame'>\n",
      "RangeIndex: 140 entries, 0 to 139\n",
      "Data columns (total 4 columns):\n",
      " #   Column  Non-Null Count  Dtype \n",
      "---  ------  --------------  ----- \n",
      " 0   link    140 non-null    object\n",
      " 1   title   140 non-null    object\n",
      " 2   artist  140 non-null    object\n",
      " 3   lyrics  117 non-null    object\n",
      "dtypes: object(4)\n",
      "memory usage: 4.5+ KB\n"
     ]
    }
   ],
   "source": [
    "df_all_songs.info()"
   ]
  },
  {
   "cell_type": "markdown",
   "id": "f9fc7fdf-69a6-408f-9998-262b471976aa",
   "metadata": {},
   "source": [
    "**Drop rows without lyrics (some links exist but don't have lyrics in it)**"
   ]
  },
  {
   "cell_type": "code",
   "execution_count": 596,
   "id": "e5e3d51d-eb27-44f5-a7f4-d5b9c4dbeeb4",
   "metadata": {},
   "outputs": [],
   "source": [
    "df_clean = df_all_songs.copy().dropna()"
   ]
  },
  {
   "cell_type": "code",
   "execution_count": 597,
   "id": "1a01fa10-a17a-45b6-aad8-88a57693773d",
   "metadata": {
    "tags": []
   },
   "outputs": [
    {
     "name": "stdout",
     "output_type": "stream",
     "text": [
      "<class 'pandas.core.frame.DataFrame'>\n",
      "Int64Index: 117 entries, 0 to 139\n",
      "Data columns (total 4 columns):\n",
      " #   Column  Non-Null Count  Dtype \n",
      "---  ------  --------------  ----- \n",
      " 0   link    117 non-null    object\n",
      " 1   title   117 non-null    object\n",
      " 2   artist  117 non-null    object\n",
      " 3   lyrics  117 non-null    object\n",
      "dtypes: object(4)\n",
      "memory usage: 4.6+ KB\n"
     ]
    }
   ],
   "source": [
    "df_clean.info()"
   ]
  },
  {
   "cell_type": "code",
   "execution_count": 598,
   "id": "70c36e2a-590e-4064-b956-1c040a513e3b",
   "metadata": {
    "tags": []
   },
   "outputs": [
    {
     "data": {
      "text/html": [
       "<div>\n",
       "<style scoped>\n",
       "    .dataframe tbody tr th:only-of-type {\n",
       "        vertical-align: middle;\n",
       "    }\n",
       "\n",
       "    .dataframe tbody tr th {\n",
       "        vertical-align: top;\n",
       "    }\n",
       "\n",
       "    .dataframe thead th {\n",
       "        text-align: right;\n",
       "    }\n",
       "</style>\n",
       "<table border=\"1\" class=\"dataframe\">\n",
       "  <thead>\n",
       "    <tr style=\"text-align: right;\">\n",
       "      <th></th>\n",
       "      <th>link</th>\n",
       "      <th>title</th>\n",
       "      <th>artist</th>\n",
       "      <th>lyrics</th>\n",
       "    </tr>\n",
       "  </thead>\n",
       "  <tbody>\n",
       "    <tr>\n",
       "      <th>0</th>\n",
       "      <td>https://www.lyrics.com/lyric/35092433/Spice+Gi...</td>\n",
       "      <td>Wannabe</td>\n",
       "      <td>spice_girls</td>\n",
       "      <td>Ha ha ha ha ha\\nYo, I'll tell you what I want,...</td>\n",
       "    </tr>\n",
       "    <tr>\n",
       "      <th>1</th>\n",
       "      <td>https://www.lyrics.com/lyric/35074610/Spice+Gi...</td>\n",
       "      <td>Mama</td>\n",
       "      <td>spice_girls</td>\n",
       "      <td>She used to be my only enemy and never let me ...</td>\n",
       "    </tr>\n",
       "    <tr>\n",
       "      <th>2</th>\n",
       "      <td>https://www.lyrics.com/lyric/35134498/Spice+Gi...</td>\n",
       "      <td>In_The_Summertime</td>\n",
       "      <td>spice_girls</td>\n",
       "      <td>It's a summertime affair\\nShaggy ha\\nRavyon\\nS...</td>\n",
       "    </tr>\n",
       "    <tr>\n",
       "      <th>3</th>\n",
       "      <td>https://www.lyrics.com/lyric/35134496/Spice+Gi...</td>\n",
       "      <td>Spice_Up_Your_Life</td>\n",
       "      <td>spice_girls</td>\n",
       "      <td>La la la la la la la la la \\nLa la la la la la...</td>\n",
       "    </tr>\n",
       "    <tr>\n",
       "      <th>4</th>\n",
       "      <td>https://www.lyrics.com/lyric/30734178/Spice+Gi...</td>\n",
       "      <td>Stop</td>\n",
       "      <td>spice_girls</td>\n",
       "      <td>You just walk in, I make you smile\\nIt's cool ...</td>\n",
       "    </tr>\n",
       "  </tbody>\n",
       "</table>\n",
       "</div>"
      ],
      "text/plain": [
       "                                                link               title  \\\n",
       "0  https://www.lyrics.com/lyric/35092433/Spice+Gi...             Wannabe   \n",
       "1  https://www.lyrics.com/lyric/35074610/Spice+Gi...                Mama   \n",
       "2  https://www.lyrics.com/lyric/35134498/Spice+Gi...   In_The_Summertime   \n",
       "3  https://www.lyrics.com/lyric/35134496/Spice+Gi...  Spice_Up_Your_Life   \n",
       "4  https://www.lyrics.com/lyric/30734178/Spice+Gi...                Stop   \n",
       "\n",
       "        artist                                             lyrics  \n",
       "0  spice_girls  Ha ha ha ha ha\\nYo, I'll tell you what I want,...  \n",
       "1  spice_girls  She used to be my only enemy and never let me ...  \n",
       "2  spice_girls  It's a summertime affair\\nShaggy ha\\nRavyon\\nS...  \n",
       "3  spice_girls  La la la la la la la la la \\nLa la la la la la...  \n",
       "4  spice_girls  You just walk in, I make you smile\\nIt's cool ...  "
      ]
     },
     "execution_count": 598,
     "metadata": {},
     "output_type": "execute_result"
    }
   ],
   "source": [
    "df_clean.head()"
   ]
  },
  {
   "cell_type": "markdown",
   "id": "61eb9ca7-01cb-473a-bfa4-b3c122d4c10f",
   "metadata": {},
   "source": [
    "**Clean dataframe**\n",
    "- Split lyrics with \"\\n\" and assign it to multiple rows\n",
    "- Drop columns \"link\" and \"title\"\n",
    "- Remove _ in artist column and capitalize names\n",
    "- Set artist as index"
   ]
  },
  {
   "cell_type": "code",
   "execution_count": 599,
   "id": "931f2112-6924-4f3c-9340-7a8bbcf96604",
   "metadata": {},
   "outputs": [],
   "source": [
    "# df_all_songs\n",
    "df_clean_all = gf.clean_dataframe(df_clean.copy())"
   ]
  },
  {
   "cell_type": "code",
   "execution_count": 600,
   "id": "16fd54d6-f3d4-4cf6-8642-32b2e022368b",
   "metadata": {
    "tags": []
   },
   "outputs": [
    {
     "data": {
      "text/html": [
       "<div>\n",
       "<style scoped>\n",
       "    .dataframe tbody tr th:only-of-type {\n",
       "        vertical-align: middle;\n",
       "    }\n",
       "\n",
       "    .dataframe tbody tr th {\n",
       "        vertical-align: top;\n",
       "    }\n",
       "\n",
       "    .dataframe thead th {\n",
       "        text-align: right;\n",
       "    }\n",
       "</style>\n",
       "<table border=\"1\" class=\"dataframe\">\n",
       "  <thead>\n",
       "    <tr style=\"text-align: right;\">\n",
       "      <th></th>\n",
       "      <th>lyrics</th>\n",
       "    </tr>\n",
       "    <tr>\n",
       "      <th>artist</th>\n",
       "      <th></th>\n",
       "    </tr>\n",
       "  </thead>\n",
       "  <tbody>\n",
       "    <tr>\n",
       "      <th>Spice Girls</th>\n",
       "      <td>Ha ha ha ha ha</td>\n",
       "    </tr>\n",
       "    <tr>\n",
       "      <th>Spice Girls</th>\n",
       "      <td>Yo, I'll tell you what I want, what I really, ...</td>\n",
       "    </tr>\n",
       "    <tr>\n",
       "      <th>Spice Girls</th>\n",
       "      <td>So tell me what you want, what you really, rea...</td>\n",
       "    </tr>\n",
       "    <tr>\n",
       "      <th>Spice Girls</th>\n",
       "      <td>I'll tell you what I want, what I really, real...</td>\n",
       "    </tr>\n",
       "    <tr>\n",
       "      <th>Spice Girls</th>\n",
       "      <td>So tell me what you want, what you really, rea...</td>\n",
       "    </tr>\n",
       "    <tr>\n",
       "      <th>...</th>\n",
       "      <td>...</td>\n",
       "    </tr>\n",
       "    <tr>\n",
       "      <th>My Chemical Romance</th>\n",
       "      <td>Way down, way down</td>\n",
       "    </tr>\n",
       "    <tr>\n",
       "      <th>My Chemical Romance</th>\n",
       "      <td>Way down, way down</td>\n",
       "    </tr>\n",
       "    <tr>\n",
       "      <th>My Chemical Romance</th>\n",
       "      <td>Way down, way down</td>\n",
       "    </tr>\n",
       "    <tr>\n",
       "      <th>My Chemical Romance</th>\n",
       "      <td>Way down, way down</td>\n",
       "    </tr>\n",
       "    <tr>\n",
       "      <th>My Chemical Romance</th>\n",
       "      <td>Way down</td>\n",
       "    </tr>\n",
       "  </tbody>\n",
       "</table>\n",
       "<p>7462 rows × 1 columns</p>\n",
       "</div>"
      ],
      "text/plain": [
       "                                                                lyrics\n",
       "artist                                                                \n",
       "Spice Girls                                             Ha ha ha ha ha\n",
       "Spice Girls          Yo, I'll tell you what I want, what I really, ...\n",
       "Spice Girls          So tell me what you want, what you really, rea...\n",
       "Spice Girls          I'll tell you what I want, what I really, real...\n",
       "Spice Girls          So tell me what you want, what you really, rea...\n",
       "...                                                                ...\n",
       "My Chemical Romance                                 Way down, way down\n",
       "My Chemical Romance                                 Way down, way down\n",
       "My Chemical Romance                                 Way down, way down\n",
       "My Chemical Romance                                 Way down, way down\n",
       "My Chemical Romance                                           Way down\n",
       "\n",
       "[7462 rows x 1 columns]"
      ]
     },
     "execution_count": 600,
     "metadata": {},
     "output_type": "execute_result"
    }
   ],
   "source": [
    "df_clean_all"
   ]
  },
  {
   "cell_type": "code",
   "execution_count": null,
   "id": "15162442-0cf4-4d7d-81f6-3551135b5cca",
   "metadata": {},
   "outputs": [],
   "source": [
    "y = df_all_songs['artist']\n",
    "y.value_counts(normalize=True)"
   ]
  },
  {
   "cell_type": "markdown",
   "id": "0fa8eb2f",
   "metadata": {
    "tags": []
   },
   "source": [
    "# 3. Bag of Words\n",
    "<hr style=\"border:2px solid gray\">"
   ]
  },
  {
   "cell_type": "markdown",
   "id": "ec41cf3b-7262-4177-8cd3-11db38046ab2",
   "metadata": {
    "tags": []
   },
   "source": [
    "## Preprocessing"
   ]
  },
  {
   "cell_type": "markdown",
   "id": "5a1d4e07-cd0d-44b1-8a60-cbf0ba5189d6",
   "metadata": {},
   "source": [
    "**Steps to do:**\n",
    "1. Tokenisation\n",
    "2. Clean the text (capitalization, punctuations)\n",
    "3. Stemming - the reduction of the word to its (pseudo)stem by removing suffixes via some heuristic rules. Does not always result in a real word at the end\n",
    "4. Lemmatisation - the conversion of a word to its dictionary form\n",
    "5. Removing stopwords\n",
    "6. Vectorization"
   ]
  },
  {
   "cell_type": "markdown",
   "id": "4c08922b-3647-4835-a813-aa2b3a6fa597",
   "metadata": {},
   "source": [
    "#### CountVectorizer\n",
    "- Remove list of stopwords\n",
    "- Remove punctuation marks\n",
    "- Remove the words that appear in more than X% of documents\n"
   ]
  },
  {
   "cell_type": "code",
   "execution_count": 601,
   "id": "7fe96e73-0f64-4c02-9fc5-28b81d6f025d",
   "metadata": {},
   "outputs": [],
   "source": [
    "import nltk\n",
    "import string\n",
    "\n",
    "from nltk.stem import WordNetLemmatizer\n",
    "from nltk.tokenize import TreebankWordTokenizer\n",
    "from nltk.tokenize import word_tokenize\n",
    "from sklearn.feature_extraction.text import TfidfVectorizer\n",
    "from sklearn.feature_extraction.text import ENGLISH_STOP_WORDS as skl_stopwords\n",
    "\n",
    "lemmatizer = WordNetLemmatizer()\n",
    "tokenizer= TreebankWordTokenizer()"
   ]
  },
  {
   "cell_type": "code",
   "execution_count": 602,
   "id": "544801ea-a3a9-4660-9bd0-68e357086431",
   "metadata": {},
   "outputs": [],
   "source": [
    "# This is a custom function to strip punctuation, tokenize and lemmatize as well as remove stopwords\n",
    "def tokenize_lemmatize(text, stopwords=skl_stopwords, tokenizer=tokenizer, lemmatizer=lemmatizer):\n",
    "    text = ''.join([ch for ch in text if ch not in string.punctuation]) #remove punctuation\n",
    "    tokens = nltk.word_tokenize(text) \n",
    "    return [lemmatizer.lemmatize(token) for token in tokens if token not in stopwords] \n",
    "    #we have to filter for stopwprds at this stage, otherwise some stopwords get truncated and missed if passed to CountVectorizer"
   ]
  },
  {
   "cell_type": "code",
   "execution_count": 603,
   "id": "34a4840a-5e16-49ae-a32d-b605de6d6494",
   "metadata": {},
   "outputs": [
    {
     "name": "stderr",
     "output_type": "stream",
     "text": [
      "/Users/nadine/anaconda3/lib/python3.10/site-packages/sklearn/feature_extraction/text.py:528: UserWarning: The parameter 'token_pattern' will not be used since 'tokenizer' is not None'\n",
      "  warnings.warn(\n"
     ]
    },
    {
     "data": {
      "text/html": [
       "<div>\n",
       "<style scoped>\n",
       "    .dataframe tbody tr th:only-of-type {\n",
       "        vertical-align: middle;\n",
       "    }\n",
       "\n",
       "    .dataframe tbody tr th {\n",
       "        vertical-align: top;\n",
       "    }\n",
       "\n",
       "    .dataframe thead th {\n",
       "        text-align: right;\n",
       "    }\n",
       "</style>\n",
       "<table border=\"1\" class=\"dataframe\">\n",
       "  <thead>\n",
       "    <tr style=\"text-align: right;\">\n",
       "      <th></th>\n",
       "      <th>10</th>\n",
       "      <th>102</th>\n",
       "      <th>22</th>\n",
       "      <th>5</th>\n",
       "      <th>8</th>\n",
       "      <th>81</th>\n",
       "      <th>9</th>\n",
       "      <th>90</th>\n",
       "      <th>98</th>\n",
       "      <th>aah</th>\n",
       "      <th>...</th>\n",
       "      <th>zaaaaahhhhh</th>\n",
       "      <th>zaaahhhh</th>\n",
       "      <th>zero</th>\n",
       "      <th>zigazig</th>\n",
       "      <th>ziggy</th>\n",
       "      <th>zing</th>\n",
       "      <th>zinga</th>\n",
       "      <th>zombie</th>\n",
       "      <th>zone</th>\n",
       "      <th>zoom</th>\n",
       "    </tr>\n",
       "    <tr>\n",
       "      <th>artist</th>\n",
       "      <th></th>\n",
       "      <th></th>\n",
       "      <th></th>\n",
       "      <th></th>\n",
       "      <th></th>\n",
       "      <th></th>\n",
       "      <th></th>\n",
       "      <th></th>\n",
       "      <th></th>\n",
       "      <th></th>\n",
       "      <th></th>\n",
       "      <th></th>\n",
       "      <th></th>\n",
       "      <th></th>\n",
       "      <th></th>\n",
       "      <th></th>\n",
       "      <th></th>\n",
       "      <th></th>\n",
       "      <th></th>\n",
       "      <th></th>\n",
       "      <th></th>\n",
       "    </tr>\n",
       "  </thead>\n",
       "  <tbody>\n",
       "    <tr>\n",
       "      <th>Spice Girls</th>\n",
       "      <td>0</td>\n",
       "      <td>0</td>\n",
       "      <td>0</td>\n",
       "      <td>0</td>\n",
       "      <td>0</td>\n",
       "      <td>0</td>\n",
       "      <td>0</td>\n",
       "      <td>0</td>\n",
       "      <td>0</td>\n",
       "      <td>0</td>\n",
       "      <td>...</td>\n",
       "      <td>0</td>\n",
       "      <td>0</td>\n",
       "      <td>0</td>\n",
       "      <td>0</td>\n",
       "      <td>0</td>\n",
       "      <td>0</td>\n",
       "      <td>0</td>\n",
       "      <td>0</td>\n",
       "      <td>0</td>\n",
       "      <td>0</td>\n",
       "    </tr>\n",
       "    <tr>\n",
       "      <th>Spice Girls</th>\n",
       "      <td>0</td>\n",
       "      <td>0</td>\n",
       "      <td>0</td>\n",
       "      <td>0</td>\n",
       "      <td>0</td>\n",
       "      <td>0</td>\n",
       "      <td>0</td>\n",
       "      <td>0</td>\n",
       "      <td>0</td>\n",
       "      <td>0</td>\n",
       "      <td>...</td>\n",
       "      <td>0</td>\n",
       "      <td>0</td>\n",
       "      <td>0</td>\n",
       "      <td>0</td>\n",
       "      <td>0</td>\n",
       "      <td>0</td>\n",
       "      <td>0</td>\n",
       "      <td>0</td>\n",
       "      <td>0</td>\n",
       "      <td>0</td>\n",
       "    </tr>\n",
       "    <tr>\n",
       "      <th>Spice Girls</th>\n",
       "      <td>0</td>\n",
       "      <td>0</td>\n",
       "      <td>0</td>\n",
       "      <td>0</td>\n",
       "      <td>0</td>\n",
       "      <td>0</td>\n",
       "      <td>0</td>\n",
       "      <td>0</td>\n",
       "      <td>0</td>\n",
       "      <td>0</td>\n",
       "      <td>...</td>\n",
       "      <td>0</td>\n",
       "      <td>0</td>\n",
       "      <td>0</td>\n",
       "      <td>0</td>\n",
       "      <td>0</td>\n",
       "      <td>0</td>\n",
       "      <td>0</td>\n",
       "      <td>0</td>\n",
       "      <td>0</td>\n",
       "      <td>0</td>\n",
       "    </tr>\n",
       "    <tr>\n",
       "      <th>Spice Girls</th>\n",
       "      <td>0</td>\n",
       "      <td>0</td>\n",
       "      <td>0</td>\n",
       "      <td>0</td>\n",
       "      <td>0</td>\n",
       "      <td>0</td>\n",
       "      <td>0</td>\n",
       "      <td>0</td>\n",
       "      <td>0</td>\n",
       "      <td>0</td>\n",
       "      <td>...</td>\n",
       "      <td>0</td>\n",
       "      <td>0</td>\n",
       "      <td>0</td>\n",
       "      <td>0</td>\n",
       "      <td>0</td>\n",
       "      <td>0</td>\n",
       "      <td>0</td>\n",
       "      <td>0</td>\n",
       "      <td>0</td>\n",
       "      <td>0</td>\n",
       "    </tr>\n",
       "    <tr>\n",
       "      <th>Spice Girls</th>\n",
       "      <td>0</td>\n",
       "      <td>0</td>\n",
       "      <td>0</td>\n",
       "      <td>0</td>\n",
       "      <td>0</td>\n",
       "      <td>0</td>\n",
       "      <td>0</td>\n",
       "      <td>0</td>\n",
       "      <td>0</td>\n",
       "      <td>0</td>\n",
       "      <td>...</td>\n",
       "      <td>0</td>\n",
       "      <td>0</td>\n",
       "      <td>0</td>\n",
       "      <td>0</td>\n",
       "      <td>0</td>\n",
       "      <td>0</td>\n",
       "      <td>0</td>\n",
       "      <td>0</td>\n",
       "      <td>0</td>\n",
       "      <td>0</td>\n",
       "    </tr>\n",
       "    <tr>\n",
       "      <th>...</th>\n",
       "      <td>...</td>\n",
       "      <td>...</td>\n",
       "      <td>...</td>\n",
       "      <td>...</td>\n",
       "      <td>...</td>\n",
       "      <td>...</td>\n",
       "      <td>...</td>\n",
       "      <td>...</td>\n",
       "      <td>...</td>\n",
       "      <td>...</td>\n",
       "      <td>...</td>\n",
       "      <td>...</td>\n",
       "      <td>...</td>\n",
       "      <td>...</td>\n",
       "      <td>...</td>\n",
       "      <td>...</td>\n",
       "      <td>...</td>\n",
       "      <td>...</td>\n",
       "      <td>...</td>\n",
       "      <td>...</td>\n",
       "      <td>...</td>\n",
       "    </tr>\n",
       "    <tr>\n",
       "      <th>My Chemical Romance</th>\n",
       "      <td>0</td>\n",
       "      <td>0</td>\n",
       "      <td>0</td>\n",
       "      <td>0</td>\n",
       "      <td>0</td>\n",
       "      <td>0</td>\n",
       "      <td>0</td>\n",
       "      <td>0</td>\n",
       "      <td>0</td>\n",
       "      <td>0</td>\n",
       "      <td>...</td>\n",
       "      <td>0</td>\n",
       "      <td>0</td>\n",
       "      <td>0</td>\n",
       "      <td>0</td>\n",
       "      <td>0</td>\n",
       "      <td>0</td>\n",
       "      <td>0</td>\n",
       "      <td>0</td>\n",
       "      <td>0</td>\n",
       "      <td>0</td>\n",
       "    </tr>\n",
       "    <tr>\n",
       "      <th>My Chemical Romance</th>\n",
       "      <td>0</td>\n",
       "      <td>0</td>\n",
       "      <td>0</td>\n",
       "      <td>0</td>\n",
       "      <td>0</td>\n",
       "      <td>0</td>\n",
       "      <td>0</td>\n",
       "      <td>0</td>\n",
       "      <td>0</td>\n",
       "      <td>0</td>\n",
       "      <td>...</td>\n",
       "      <td>0</td>\n",
       "      <td>0</td>\n",
       "      <td>0</td>\n",
       "      <td>0</td>\n",
       "      <td>0</td>\n",
       "      <td>0</td>\n",
       "      <td>0</td>\n",
       "      <td>0</td>\n",
       "      <td>0</td>\n",
       "      <td>0</td>\n",
       "    </tr>\n",
       "    <tr>\n",
       "      <th>My Chemical Romance</th>\n",
       "      <td>0</td>\n",
       "      <td>0</td>\n",
       "      <td>0</td>\n",
       "      <td>0</td>\n",
       "      <td>0</td>\n",
       "      <td>0</td>\n",
       "      <td>0</td>\n",
       "      <td>0</td>\n",
       "      <td>0</td>\n",
       "      <td>0</td>\n",
       "      <td>...</td>\n",
       "      <td>0</td>\n",
       "      <td>0</td>\n",
       "      <td>0</td>\n",
       "      <td>0</td>\n",
       "      <td>0</td>\n",
       "      <td>0</td>\n",
       "      <td>0</td>\n",
       "      <td>0</td>\n",
       "      <td>0</td>\n",
       "      <td>0</td>\n",
       "    </tr>\n",
       "    <tr>\n",
       "      <th>My Chemical Romance</th>\n",
       "      <td>0</td>\n",
       "      <td>0</td>\n",
       "      <td>0</td>\n",
       "      <td>0</td>\n",
       "      <td>0</td>\n",
       "      <td>0</td>\n",
       "      <td>0</td>\n",
       "      <td>0</td>\n",
       "      <td>0</td>\n",
       "      <td>0</td>\n",
       "      <td>...</td>\n",
       "      <td>0</td>\n",
       "      <td>0</td>\n",
       "      <td>0</td>\n",
       "      <td>0</td>\n",
       "      <td>0</td>\n",
       "      <td>0</td>\n",
       "      <td>0</td>\n",
       "      <td>0</td>\n",
       "      <td>0</td>\n",
       "      <td>0</td>\n",
       "    </tr>\n",
       "    <tr>\n",
       "      <th>My Chemical Romance</th>\n",
       "      <td>0</td>\n",
       "      <td>0</td>\n",
       "      <td>0</td>\n",
       "      <td>0</td>\n",
       "      <td>0</td>\n",
       "      <td>0</td>\n",
       "      <td>0</td>\n",
       "      <td>0</td>\n",
       "      <td>0</td>\n",
       "      <td>0</td>\n",
       "      <td>...</td>\n",
       "      <td>0</td>\n",
       "      <td>0</td>\n",
       "      <td>0</td>\n",
       "      <td>0</td>\n",
       "      <td>0</td>\n",
       "      <td>0</td>\n",
       "      <td>0</td>\n",
       "      <td>0</td>\n",
       "      <td>0</td>\n",
       "      <td>0</td>\n",
       "    </tr>\n",
       "  </tbody>\n",
       "</table>\n",
       "<p>7462 rows × 2330 columns</p>\n",
       "</div>"
      ],
      "text/plain": [
       "                     10  102  22  5  8  81  9  90  98  aah  ...  zaaaaahhhhh  \\\n",
       "artist                                                      ...                \n",
       "Spice Girls           0    0   0  0  0   0  0   0   0    0  ...            0   \n",
       "Spice Girls           0    0   0  0  0   0  0   0   0    0  ...            0   \n",
       "Spice Girls           0    0   0  0  0   0  0   0   0    0  ...            0   \n",
       "Spice Girls           0    0   0  0  0   0  0   0   0    0  ...            0   \n",
       "Spice Girls           0    0   0  0  0   0  0   0   0    0  ...            0   \n",
       "...                  ..  ...  .. .. ..  .. ..  ..  ..  ...  ...          ...   \n",
       "My Chemical Romance   0    0   0  0  0   0  0   0   0    0  ...            0   \n",
       "My Chemical Romance   0    0   0  0  0   0  0   0   0    0  ...            0   \n",
       "My Chemical Romance   0    0   0  0  0   0  0   0   0    0  ...            0   \n",
       "My Chemical Romance   0    0   0  0  0   0  0   0   0    0  ...            0   \n",
       "My Chemical Romance   0    0   0  0  0   0  0   0   0    0  ...            0   \n",
       "\n",
       "                     zaaahhhh  zero  zigazig  ziggy  zing  zinga  zombie  \\\n",
       "artist                                                                     \n",
       "Spice Girls                 0     0        0      0     0      0       0   \n",
       "Spice Girls                 0     0        0      0     0      0       0   \n",
       "Spice Girls                 0     0        0      0     0      0       0   \n",
       "Spice Girls                 0     0        0      0     0      0       0   \n",
       "Spice Girls                 0     0        0      0     0      0       0   \n",
       "...                       ...   ...      ...    ...   ...    ...     ...   \n",
       "My Chemical Romance         0     0        0      0     0      0       0   \n",
       "My Chemical Romance         0     0        0      0     0      0       0   \n",
       "My Chemical Romance         0     0        0      0     0      0       0   \n",
       "My Chemical Romance         0     0        0      0     0      0       0   \n",
       "My Chemical Romance         0     0        0      0     0      0       0   \n",
       "\n",
       "                     zone  zoom  \n",
       "artist                           \n",
       "Spice Girls             0     0  \n",
       "Spice Girls             0     0  \n",
       "Spice Girls             0     0  \n",
       "Spice Girls             0     0  \n",
       "Spice Girls             0     0  \n",
       "...                   ...   ...  \n",
       "My Chemical Romance     0     0  \n",
       "My Chemical Romance     0     0  \n",
       "My Chemical Romance     0     0  \n",
       "My Chemical Romance     0     0  \n",
       "My Chemical Romance     0     0  \n",
       "\n",
       "[7462 rows x 2330 columns]"
      ]
     },
     "execution_count": 603,
     "metadata": {},
     "output_type": "execute_result"
    }
   ],
   "source": [
    "count_vectorizer = CountVectorizer(tokenizer=tokenize_lemmatize, stop_words=None, max_df=0.9) \n",
    "#stop_words=None here as we already filtered for them.\n",
    "\n",
    "X = count_vectorizer.fit_transform(df_clean_all['lyrics'])\n",
    "X_df = pd.DataFrame(X.todense(), columns=count_vectorizer.get_feature_names_out(), index=df_clean_all.index)\n",
    "X_df"
   ]
  },
  {
   "cell_type": "markdown",
   "id": "674b7395-6ae1-4483-8345-4ad96e40c26e",
   "metadata": {},
   "source": [
    "#### Normalization using TfidTransformer"
   ]
  },
  {
   "cell_type": "code",
   "execution_count": 605,
   "id": "f05f666a-5ce8-4990-938a-0585673da8c0",
   "metadata": {},
   "outputs": [
    {
     "data": {
      "text/html": [
       "<div>\n",
       "<style scoped>\n",
       "    .dataframe tbody tr th:only-of-type {\n",
       "        vertical-align: middle;\n",
       "    }\n",
       "\n",
       "    .dataframe tbody tr th {\n",
       "        vertical-align: top;\n",
       "    }\n",
       "\n",
       "    .dataframe thead th {\n",
       "        text-align: right;\n",
       "    }\n",
       "</style>\n",
       "<table border=\"1\" class=\"dataframe\">\n",
       "  <thead>\n",
       "    <tr style=\"text-align: right;\">\n",
       "      <th></th>\n",
       "      <th>10</th>\n",
       "      <th>102</th>\n",
       "      <th>22</th>\n",
       "      <th>5</th>\n",
       "      <th>8</th>\n",
       "      <th>81</th>\n",
       "      <th>9</th>\n",
       "      <th>90</th>\n",
       "      <th>98</th>\n",
       "      <th>aah</th>\n",
       "      <th>...</th>\n",
       "      <th>zaaaaahhhhh</th>\n",
       "      <th>zaaahhhh</th>\n",
       "      <th>zero</th>\n",
       "      <th>zigazig</th>\n",
       "      <th>ziggy</th>\n",
       "      <th>zing</th>\n",
       "      <th>zinga</th>\n",
       "      <th>zombie</th>\n",
       "      <th>zone</th>\n",
       "      <th>zoom</th>\n",
       "    </tr>\n",
       "    <tr>\n",
       "      <th>artist</th>\n",
       "      <th></th>\n",
       "      <th></th>\n",
       "      <th></th>\n",
       "      <th></th>\n",
       "      <th></th>\n",
       "      <th></th>\n",
       "      <th></th>\n",
       "      <th></th>\n",
       "      <th></th>\n",
       "      <th></th>\n",
       "      <th></th>\n",
       "      <th></th>\n",
       "      <th></th>\n",
       "      <th></th>\n",
       "      <th></th>\n",
       "      <th></th>\n",
       "      <th></th>\n",
       "      <th></th>\n",
       "      <th></th>\n",
       "      <th></th>\n",
       "      <th></th>\n",
       "    </tr>\n",
       "  </thead>\n",
       "  <tbody>\n",
       "    <tr>\n",
       "      <th>Spice Girls</th>\n",
       "      <td>0.0</td>\n",
       "      <td>0.0</td>\n",
       "      <td>0.0</td>\n",
       "      <td>0.0</td>\n",
       "      <td>0.0</td>\n",
       "      <td>0.0</td>\n",
       "      <td>0.0</td>\n",
       "      <td>0.0</td>\n",
       "      <td>0.0</td>\n",
       "      <td>0.0</td>\n",
       "      <td>...</td>\n",
       "      <td>0.0</td>\n",
       "      <td>0.0</td>\n",
       "      <td>0.0</td>\n",
       "      <td>0.0</td>\n",
       "      <td>0.0</td>\n",
       "      <td>0.0</td>\n",
       "      <td>0.0</td>\n",
       "      <td>0.0</td>\n",
       "      <td>0.0</td>\n",
       "      <td>0.0</td>\n",
       "    </tr>\n",
       "    <tr>\n",
       "      <th>Spice Girls</th>\n",
       "      <td>0.0</td>\n",
       "      <td>0.0</td>\n",
       "      <td>0.0</td>\n",
       "      <td>0.0</td>\n",
       "      <td>0.0</td>\n",
       "      <td>0.0</td>\n",
       "      <td>0.0</td>\n",
       "      <td>0.0</td>\n",
       "      <td>0.0</td>\n",
       "      <td>0.0</td>\n",
       "      <td>...</td>\n",
       "      <td>0.0</td>\n",
       "      <td>0.0</td>\n",
       "      <td>0.0</td>\n",
       "      <td>0.0</td>\n",
       "      <td>0.0</td>\n",
       "      <td>0.0</td>\n",
       "      <td>0.0</td>\n",
       "      <td>0.0</td>\n",
       "      <td>0.0</td>\n",
       "      <td>0.0</td>\n",
       "    </tr>\n",
       "    <tr>\n",
       "      <th>Spice Girls</th>\n",
       "      <td>0.0</td>\n",
       "      <td>0.0</td>\n",
       "      <td>0.0</td>\n",
       "      <td>0.0</td>\n",
       "      <td>0.0</td>\n",
       "      <td>0.0</td>\n",
       "      <td>0.0</td>\n",
       "      <td>0.0</td>\n",
       "      <td>0.0</td>\n",
       "      <td>0.0</td>\n",
       "      <td>...</td>\n",
       "      <td>0.0</td>\n",
       "      <td>0.0</td>\n",
       "      <td>0.0</td>\n",
       "      <td>0.0</td>\n",
       "      <td>0.0</td>\n",
       "      <td>0.0</td>\n",
       "      <td>0.0</td>\n",
       "      <td>0.0</td>\n",
       "      <td>0.0</td>\n",
       "      <td>0.0</td>\n",
       "    </tr>\n",
       "    <tr>\n",
       "      <th>Spice Girls</th>\n",
       "      <td>0.0</td>\n",
       "      <td>0.0</td>\n",
       "      <td>0.0</td>\n",
       "      <td>0.0</td>\n",
       "      <td>0.0</td>\n",
       "      <td>0.0</td>\n",
       "      <td>0.0</td>\n",
       "      <td>0.0</td>\n",
       "      <td>0.0</td>\n",
       "      <td>0.0</td>\n",
       "      <td>...</td>\n",
       "      <td>0.0</td>\n",
       "      <td>0.0</td>\n",
       "      <td>0.0</td>\n",
       "      <td>0.0</td>\n",
       "      <td>0.0</td>\n",
       "      <td>0.0</td>\n",
       "      <td>0.0</td>\n",
       "      <td>0.0</td>\n",
       "      <td>0.0</td>\n",
       "      <td>0.0</td>\n",
       "    </tr>\n",
       "    <tr>\n",
       "      <th>Spice Girls</th>\n",
       "      <td>0.0</td>\n",
       "      <td>0.0</td>\n",
       "      <td>0.0</td>\n",
       "      <td>0.0</td>\n",
       "      <td>0.0</td>\n",
       "      <td>0.0</td>\n",
       "      <td>0.0</td>\n",
       "      <td>0.0</td>\n",
       "      <td>0.0</td>\n",
       "      <td>0.0</td>\n",
       "      <td>...</td>\n",
       "      <td>0.0</td>\n",
       "      <td>0.0</td>\n",
       "      <td>0.0</td>\n",
       "      <td>0.0</td>\n",
       "      <td>0.0</td>\n",
       "      <td>0.0</td>\n",
       "      <td>0.0</td>\n",
       "      <td>0.0</td>\n",
       "      <td>0.0</td>\n",
       "      <td>0.0</td>\n",
       "    </tr>\n",
       "    <tr>\n",
       "      <th>...</th>\n",
       "      <td>...</td>\n",
       "      <td>...</td>\n",
       "      <td>...</td>\n",
       "      <td>...</td>\n",
       "      <td>...</td>\n",
       "      <td>...</td>\n",
       "      <td>...</td>\n",
       "      <td>...</td>\n",
       "      <td>...</td>\n",
       "      <td>...</td>\n",
       "      <td>...</td>\n",
       "      <td>...</td>\n",
       "      <td>...</td>\n",
       "      <td>...</td>\n",
       "      <td>...</td>\n",
       "      <td>...</td>\n",
       "      <td>...</td>\n",
       "      <td>...</td>\n",
       "      <td>...</td>\n",
       "      <td>...</td>\n",
       "      <td>...</td>\n",
       "    </tr>\n",
       "    <tr>\n",
       "      <th>My Chemical Romance</th>\n",
       "      <td>0.0</td>\n",
       "      <td>0.0</td>\n",
       "      <td>0.0</td>\n",
       "      <td>0.0</td>\n",
       "      <td>0.0</td>\n",
       "      <td>0.0</td>\n",
       "      <td>0.0</td>\n",
       "      <td>0.0</td>\n",
       "      <td>0.0</td>\n",
       "      <td>0.0</td>\n",
       "      <td>...</td>\n",
       "      <td>0.0</td>\n",
       "      <td>0.0</td>\n",
       "      <td>0.0</td>\n",
       "      <td>0.0</td>\n",
       "      <td>0.0</td>\n",
       "      <td>0.0</td>\n",
       "      <td>0.0</td>\n",
       "      <td>0.0</td>\n",
       "      <td>0.0</td>\n",
       "      <td>0.0</td>\n",
       "    </tr>\n",
       "    <tr>\n",
       "      <th>My Chemical Romance</th>\n",
       "      <td>0.0</td>\n",
       "      <td>0.0</td>\n",
       "      <td>0.0</td>\n",
       "      <td>0.0</td>\n",
       "      <td>0.0</td>\n",
       "      <td>0.0</td>\n",
       "      <td>0.0</td>\n",
       "      <td>0.0</td>\n",
       "      <td>0.0</td>\n",
       "      <td>0.0</td>\n",
       "      <td>...</td>\n",
       "      <td>0.0</td>\n",
       "      <td>0.0</td>\n",
       "      <td>0.0</td>\n",
       "      <td>0.0</td>\n",
       "      <td>0.0</td>\n",
       "      <td>0.0</td>\n",
       "      <td>0.0</td>\n",
       "      <td>0.0</td>\n",
       "      <td>0.0</td>\n",
       "      <td>0.0</td>\n",
       "    </tr>\n",
       "    <tr>\n",
       "      <th>My Chemical Romance</th>\n",
       "      <td>0.0</td>\n",
       "      <td>0.0</td>\n",
       "      <td>0.0</td>\n",
       "      <td>0.0</td>\n",
       "      <td>0.0</td>\n",
       "      <td>0.0</td>\n",
       "      <td>0.0</td>\n",
       "      <td>0.0</td>\n",
       "      <td>0.0</td>\n",
       "      <td>0.0</td>\n",
       "      <td>...</td>\n",
       "      <td>0.0</td>\n",
       "      <td>0.0</td>\n",
       "      <td>0.0</td>\n",
       "      <td>0.0</td>\n",
       "      <td>0.0</td>\n",
       "      <td>0.0</td>\n",
       "      <td>0.0</td>\n",
       "      <td>0.0</td>\n",
       "      <td>0.0</td>\n",
       "      <td>0.0</td>\n",
       "    </tr>\n",
       "    <tr>\n",
       "      <th>My Chemical Romance</th>\n",
       "      <td>0.0</td>\n",
       "      <td>0.0</td>\n",
       "      <td>0.0</td>\n",
       "      <td>0.0</td>\n",
       "      <td>0.0</td>\n",
       "      <td>0.0</td>\n",
       "      <td>0.0</td>\n",
       "      <td>0.0</td>\n",
       "      <td>0.0</td>\n",
       "      <td>0.0</td>\n",
       "      <td>...</td>\n",
       "      <td>0.0</td>\n",
       "      <td>0.0</td>\n",
       "      <td>0.0</td>\n",
       "      <td>0.0</td>\n",
       "      <td>0.0</td>\n",
       "      <td>0.0</td>\n",
       "      <td>0.0</td>\n",
       "      <td>0.0</td>\n",
       "      <td>0.0</td>\n",
       "      <td>0.0</td>\n",
       "    </tr>\n",
       "    <tr>\n",
       "      <th>My Chemical Romance</th>\n",
       "      <td>0.0</td>\n",
       "      <td>0.0</td>\n",
       "      <td>0.0</td>\n",
       "      <td>0.0</td>\n",
       "      <td>0.0</td>\n",
       "      <td>0.0</td>\n",
       "      <td>0.0</td>\n",
       "      <td>0.0</td>\n",
       "      <td>0.0</td>\n",
       "      <td>0.0</td>\n",
       "      <td>...</td>\n",
       "      <td>0.0</td>\n",
       "      <td>0.0</td>\n",
       "      <td>0.0</td>\n",
       "      <td>0.0</td>\n",
       "      <td>0.0</td>\n",
       "      <td>0.0</td>\n",
       "      <td>0.0</td>\n",
       "      <td>0.0</td>\n",
       "      <td>0.0</td>\n",
       "      <td>0.0</td>\n",
       "    </tr>\n",
       "  </tbody>\n",
       "</table>\n",
       "<p>7462 rows × 2330 columns</p>\n",
       "</div>"
      ],
      "text/plain": [
       "                      10  102   22    5    8   81    9   90   98  aah  ...  \\\n",
       "artist                                                                 ...   \n",
       "Spice Girls          0.0  0.0  0.0  0.0  0.0  0.0  0.0  0.0  0.0  0.0  ...   \n",
       "Spice Girls          0.0  0.0  0.0  0.0  0.0  0.0  0.0  0.0  0.0  0.0  ...   \n",
       "Spice Girls          0.0  0.0  0.0  0.0  0.0  0.0  0.0  0.0  0.0  0.0  ...   \n",
       "Spice Girls          0.0  0.0  0.0  0.0  0.0  0.0  0.0  0.0  0.0  0.0  ...   \n",
       "Spice Girls          0.0  0.0  0.0  0.0  0.0  0.0  0.0  0.0  0.0  0.0  ...   \n",
       "...                  ...  ...  ...  ...  ...  ...  ...  ...  ...  ...  ...   \n",
       "My Chemical Romance  0.0  0.0  0.0  0.0  0.0  0.0  0.0  0.0  0.0  0.0  ...   \n",
       "My Chemical Romance  0.0  0.0  0.0  0.0  0.0  0.0  0.0  0.0  0.0  0.0  ...   \n",
       "My Chemical Romance  0.0  0.0  0.0  0.0  0.0  0.0  0.0  0.0  0.0  0.0  ...   \n",
       "My Chemical Romance  0.0  0.0  0.0  0.0  0.0  0.0  0.0  0.0  0.0  0.0  ...   \n",
       "My Chemical Romance  0.0  0.0  0.0  0.0  0.0  0.0  0.0  0.0  0.0  0.0  ...   \n",
       "\n",
       "                     zaaaaahhhhh  zaaahhhh  zero  zigazig  ziggy  zing  zinga  \\\n",
       "artist                                                                          \n",
       "Spice Girls                  0.0       0.0   0.0      0.0    0.0   0.0    0.0   \n",
       "Spice Girls                  0.0       0.0   0.0      0.0    0.0   0.0    0.0   \n",
       "Spice Girls                  0.0       0.0   0.0      0.0    0.0   0.0    0.0   \n",
       "Spice Girls                  0.0       0.0   0.0      0.0    0.0   0.0    0.0   \n",
       "Spice Girls                  0.0       0.0   0.0      0.0    0.0   0.0    0.0   \n",
       "...                          ...       ...   ...      ...    ...   ...    ...   \n",
       "My Chemical Romance          0.0       0.0   0.0      0.0    0.0   0.0    0.0   \n",
       "My Chemical Romance          0.0       0.0   0.0      0.0    0.0   0.0    0.0   \n",
       "My Chemical Romance          0.0       0.0   0.0      0.0    0.0   0.0    0.0   \n",
       "My Chemical Romance          0.0       0.0   0.0      0.0    0.0   0.0    0.0   \n",
       "My Chemical Romance          0.0       0.0   0.0      0.0    0.0   0.0    0.0   \n",
       "\n",
       "                     zombie  zone  zoom  \n",
       "artist                                   \n",
       "Spice Girls             0.0   0.0   0.0  \n",
       "Spice Girls             0.0   0.0   0.0  \n",
       "Spice Girls             0.0   0.0   0.0  \n",
       "Spice Girls             0.0   0.0   0.0  \n",
       "Spice Girls             0.0   0.0   0.0  \n",
       "...                     ...   ...   ...  \n",
       "My Chemical Romance     0.0   0.0   0.0  \n",
       "My Chemical Romance     0.0   0.0   0.0  \n",
       "My Chemical Romance     0.0   0.0   0.0  \n",
       "My Chemical Romance     0.0   0.0   0.0  \n",
       "My Chemical Romance     0.0   0.0   0.0  \n",
       "\n",
       "[7462 rows x 2330 columns]"
      ]
     },
     "execution_count": 605,
     "metadata": {},
     "output_type": "execute_result"
    }
   ],
   "source": [
    "from sklearn.feature_extraction.text import TfidfTransformer\n",
    "\n",
    "tfid_transformer = TfidfTransformer() \n",
    "#Use the CountVectorised data\n",
    "X_norm = tfid_transformer.fit_transform(X)\n",
    "\n",
    "X_norm_df=pd.DataFrame(X_norm.todense(), columns=count_vectorizer.get_feature_names_out(), index=df_clean_all.index)\n",
    "X_norm_df"
   ]
  },
  {
   "cell_type": "markdown",
   "id": "de88f703-470f-4923-83b1-5f8d5f825905",
   "metadata": {
    "tags": []
   },
   "source": [
    "# 4. Train-Test Split\n",
    "<hr style=\"border:2px solid gray\">"
   ]
  },
  {
   "cell_type": "code",
   "execution_count": 606,
   "id": "c4aab47f-1198-44ec-81f2-a791dc8f02c1",
   "metadata": {},
   "outputs": [
    {
     "data": {
      "text/plain": [
       "((5596, 2330), (1866, 2330), (5596,), (1866,))"
      ]
     },
     "execution_count": 606,
     "metadata": {},
     "output_type": "execute_result"
    }
   ],
   "source": [
    "from sklearn.model_selection import train_test_split\n",
    "\n",
    "# reset index\n",
    "X_reset_df = X_norm_df.reset_index()\n",
    "\n",
    "# # feature\n",
    "X = X_reset_df.drop(columns=['artist'], axis=1)\n",
    "\n",
    "# # target\n",
    "y = X_reset_df['artist']\n",
    "\n",
    "X_train, X_val, y_train, y_val = train_test_split(X,y, random_state=42)\n",
    "X_train.shape, X_val.shape, y_train.shape, y_val.shape"
   ]
  },
  {
   "cell_type": "code",
   "execution_count": 607,
   "id": "a56d2821-465b-44e3-b4fc-a50c6d233947",
   "metadata": {},
   "outputs": [
    {
     "data": {
      "text/plain": [
       "Spice Girls            3741\n",
       "My Chemical Romance    3721\n",
       "Name: artist, dtype: int64"
      ]
     },
     "execution_count": 607,
     "metadata": {},
     "output_type": "execute_result"
    }
   ],
   "source": [
    "y.value_counts()"
   ]
  },
  {
   "cell_type": "code",
   "execution_count": 608,
   "id": "a2e2cfa5-68c4-465b-a5fa-d1d3e1563bc1",
   "metadata": {},
   "outputs": [
    {
     "data": {
      "text/plain": [
       "Spice Girls            0.50134\n",
       "My Chemical Romance    0.49866\n",
       "Name: artist, dtype: float64"
      ]
     },
     "execution_count": 608,
     "metadata": {},
     "output_type": "execute_result"
    }
   ],
   "source": [
    "y.value_counts(normalize=True)"
   ]
  },
  {
   "cell_type": "markdown",
   "id": "e4b1d74b-5db5-4742-a0b4-f7c61cfc1ddd",
   "metadata": {},
   "source": [
    "# 5. Model Building"
   ]
  },
  {
   "cell_type": "markdown",
   "id": "e22674a3-cc78-4999-8d61-bccc0c51c05f",
   "metadata": {},
   "source": [
    "## a. Random Forest"
   ]
  },
  {
   "cell_type": "code",
   "execution_count": 609,
   "id": "350a61c0-65dd-4eaf-98de-05f9ebf81cb6",
   "metadata": {},
   "outputs": [
    {
     "data": {
      "text/html": [
       "<style>#sk-container-id-20 {color: black;background-color: white;}#sk-container-id-20 pre{padding: 0;}#sk-container-id-20 div.sk-toggleable {background-color: white;}#sk-container-id-20 label.sk-toggleable__label {cursor: pointer;display: block;width: 100%;margin-bottom: 0;padding: 0.3em;box-sizing: border-box;text-align: center;}#sk-container-id-20 label.sk-toggleable__label-arrow:before {content: \"▸\";float: left;margin-right: 0.25em;color: #696969;}#sk-container-id-20 label.sk-toggleable__label-arrow:hover:before {color: black;}#sk-container-id-20 div.sk-estimator:hover label.sk-toggleable__label-arrow:before {color: black;}#sk-container-id-20 div.sk-toggleable__content {max-height: 0;max-width: 0;overflow: hidden;text-align: left;background-color: #f0f8ff;}#sk-container-id-20 div.sk-toggleable__content pre {margin: 0.2em;color: black;border-radius: 0.25em;background-color: #f0f8ff;}#sk-container-id-20 input.sk-toggleable__control:checked~div.sk-toggleable__content {max-height: 200px;max-width: 100%;overflow: auto;}#sk-container-id-20 input.sk-toggleable__control:checked~label.sk-toggleable__label-arrow:before {content: \"▾\";}#sk-container-id-20 div.sk-estimator input.sk-toggleable__control:checked~label.sk-toggleable__label {background-color: #d4ebff;}#sk-container-id-20 div.sk-label input.sk-toggleable__control:checked~label.sk-toggleable__label {background-color: #d4ebff;}#sk-container-id-20 input.sk-hidden--visually {border: 0;clip: rect(1px 1px 1px 1px);clip: rect(1px, 1px, 1px, 1px);height: 1px;margin: -1px;overflow: hidden;padding: 0;position: absolute;width: 1px;}#sk-container-id-20 div.sk-estimator {font-family: monospace;background-color: #f0f8ff;border: 1px dotted black;border-radius: 0.25em;box-sizing: border-box;margin-bottom: 0.5em;}#sk-container-id-20 div.sk-estimator:hover {background-color: #d4ebff;}#sk-container-id-20 div.sk-parallel-item::after {content: \"\";width: 100%;border-bottom: 1px solid gray;flex-grow: 1;}#sk-container-id-20 div.sk-label:hover label.sk-toggleable__label {background-color: #d4ebff;}#sk-container-id-20 div.sk-serial::before {content: \"\";position: absolute;border-left: 1px solid gray;box-sizing: border-box;top: 0;bottom: 0;left: 50%;z-index: 0;}#sk-container-id-20 div.sk-serial {display: flex;flex-direction: column;align-items: center;background-color: white;padding-right: 0.2em;padding-left: 0.2em;position: relative;}#sk-container-id-20 div.sk-item {position: relative;z-index: 1;}#sk-container-id-20 div.sk-parallel {display: flex;align-items: stretch;justify-content: center;background-color: white;position: relative;}#sk-container-id-20 div.sk-item::before, #sk-container-id-20 div.sk-parallel-item::before {content: \"\";position: absolute;border-left: 1px solid gray;box-sizing: border-box;top: 0;bottom: 0;left: 50%;z-index: -1;}#sk-container-id-20 div.sk-parallel-item {display: flex;flex-direction: column;z-index: 1;position: relative;background-color: white;}#sk-container-id-20 div.sk-parallel-item:first-child::after {align-self: flex-end;width: 50%;}#sk-container-id-20 div.sk-parallel-item:last-child::after {align-self: flex-start;width: 50%;}#sk-container-id-20 div.sk-parallel-item:only-child::after {width: 0;}#sk-container-id-20 div.sk-dashed-wrapped {border: 1px dashed gray;margin: 0 0.4em 0.5em 0.4em;box-sizing: border-box;padding-bottom: 0.4em;background-color: white;}#sk-container-id-20 div.sk-label label {font-family: monospace;font-weight: bold;display: inline-block;line-height: 1.2em;}#sk-container-id-20 div.sk-label-container {text-align: center;}#sk-container-id-20 div.sk-container {/* jupyter's `normalize.less` sets `[hidden] { display: none; }` but bootstrap.min.css set `[hidden] { display: none !important; }` so we also need the `!important` here to be able to override the default hidden behavior on the sphinx rendered scikit-learn.org. See: https://github.com/scikit-learn/scikit-learn/issues/21755 */display: inline-block !important;position: relative;}#sk-container-id-20 div.sk-text-repr-fallback {display: none;}</style><div id=\"sk-container-id-20\" class=\"sk-top-container\"><div class=\"sk-text-repr-fallback\"><pre>RandomForestClassifier(max_depth=5, n_estimators=15, random_state=42)</pre><b>In a Jupyter environment, please rerun this cell to show the HTML representation or trust the notebook. <br />On GitHub, the HTML representation is unable to render, please try loading this page with nbviewer.org.</b></div><div class=\"sk-container\" hidden><div class=\"sk-item\"><div class=\"sk-estimator sk-toggleable\"><input class=\"sk-toggleable__control sk-hidden--visually\" id=\"sk-estimator-id-20\" type=\"checkbox\" checked><label for=\"sk-estimator-id-20\" class=\"sk-toggleable__label sk-toggleable__label-arrow\">RandomForestClassifier</label><div class=\"sk-toggleable__content\"><pre>RandomForestClassifier(max_depth=5, n_estimators=15, random_state=42)</pre></div></div></div></div></div>"
      ],
      "text/plain": [
       "RandomForestClassifier(max_depth=5, n_estimators=15, random_state=42)"
      ]
     },
     "execution_count": 609,
     "metadata": {},
     "output_type": "execute_result"
    }
   ],
   "source": [
    "from sklearn.ensemble import RandomForestClassifier\n",
    "from sklearn.metrics import accuracy_score, precision_score, recall_score, f1_score, confusion_matrix\n",
    "\n",
    "# train data\n",
    "clf_RF = RandomForestClassifier(n_estimators=15, max_depth=5, random_state=42)\n",
    "clf_RF.fit(X_train, y_train)"
   ]
  },
  {
   "cell_type": "code",
   "execution_count": 610,
   "id": "844e9343-e686-47b8-95b2-41555b961caa",
   "metadata": {},
   "outputs": [],
   "source": [
    "def print_evaluations(ytrue, ypred, model):\n",
    "    print(f'How does model {model} score:')\n",
    "    print(f'The accuracy of the model is: {round(accuracy_score(ytrue, ypred), 3)}')\n",
    "    print(f\"The precision of the model is: {round(precision_score(ytrue, ypred, pos_label='Spice Girls'), 3)}\")\n",
    "    print(f\"The recall of the model is: {round(recall_score(ytrue, ypred,pos_label='Spice Girls'), 3)}\")\n",
    "    print(f\"The f1-score of the model is: {round(f1_score(ytrue, ypred, pos_label='Spice Girls'), 3)}\")"
   ]
  },
  {
   "cell_type": "code",
   "execution_count": 611,
   "id": "630c0d6f-f053-4240-8eb8-3e2521546020",
   "metadata": {
    "tags": []
   },
   "outputs": [],
   "source": [
    "rf_predictions = clf_RF.predict(X_val)"
   ]
  },
  {
   "cell_type": "code",
   "execution_count": 612,
   "id": "e8a96965-fa64-472f-9d32-70dca14b0f0c",
   "metadata": {},
   "outputs": [
    {
     "name": "stdout",
     "output_type": "stream",
     "text": [
      "How does model Random Forest predictions score:\n",
      "The accuracy of the model is: 0.625\n",
      "The precision of the model is: 0.852\n",
      "The recall of the model is: 0.312\n",
      "The f1-score of the model is: 0.457\n"
     ]
    }
   ],
   "source": [
    "print_evaluations(y_val, rf_predictions, \"Random Forest predictions\")"
   ]
  },
  {
   "cell_type": "code",
   "execution_count": 613,
   "id": "9a0501e8-9874-402a-96f0-53efa49c23c5",
   "metadata": {},
   "outputs": [
    {
     "data": {
      "text/plain": [
       "0.6300929235167977"
      ]
     },
     "execution_count": 613,
     "metadata": {},
     "output_type": "execute_result"
    }
   ],
   "source": [
    "# train accuracy\n",
    "clf_RF.score(X_train, y_train)"
   ]
  },
  {
   "cell_type": "code",
   "execution_count": 614,
   "id": "4258bbe6-e851-4862-9b4c-04167f31a832",
   "metadata": {},
   "outputs": [
    {
     "data": {
      "text/plain": [
       "0.62486602357985"
      ]
     },
     "execution_count": 614,
     "metadata": {},
     "output_type": "execute_result"
    }
   ],
   "source": [
    "# test accuracy\n",
    "clf_RF.score(X_val, y_val)"
   ]
  },
  {
   "cell_type": "markdown",
   "id": "71456e3d-9ecb-45db-99cd-daade4a59fcb",
   "metadata": {},
   "source": [
    "## b. Naives Bayes"
   ]
  },
  {
   "cell_type": "code",
   "execution_count": 615,
   "id": "cfb669c4-39c6-441d-a89d-88dc3253696d",
   "metadata": {},
   "outputs": [
    {
     "data": {
      "text/html": [
       "<style>#sk-container-id-21 {color: black;background-color: white;}#sk-container-id-21 pre{padding: 0;}#sk-container-id-21 div.sk-toggleable {background-color: white;}#sk-container-id-21 label.sk-toggleable__label {cursor: pointer;display: block;width: 100%;margin-bottom: 0;padding: 0.3em;box-sizing: border-box;text-align: center;}#sk-container-id-21 label.sk-toggleable__label-arrow:before {content: \"▸\";float: left;margin-right: 0.25em;color: #696969;}#sk-container-id-21 label.sk-toggleable__label-arrow:hover:before {color: black;}#sk-container-id-21 div.sk-estimator:hover label.sk-toggleable__label-arrow:before {color: black;}#sk-container-id-21 div.sk-toggleable__content {max-height: 0;max-width: 0;overflow: hidden;text-align: left;background-color: #f0f8ff;}#sk-container-id-21 div.sk-toggleable__content pre {margin: 0.2em;color: black;border-radius: 0.25em;background-color: #f0f8ff;}#sk-container-id-21 input.sk-toggleable__control:checked~div.sk-toggleable__content {max-height: 200px;max-width: 100%;overflow: auto;}#sk-container-id-21 input.sk-toggleable__control:checked~label.sk-toggleable__label-arrow:before {content: \"▾\";}#sk-container-id-21 div.sk-estimator input.sk-toggleable__control:checked~label.sk-toggleable__label {background-color: #d4ebff;}#sk-container-id-21 div.sk-label input.sk-toggleable__control:checked~label.sk-toggleable__label {background-color: #d4ebff;}#sk-container-id-21 input.sk-hidden--visually {border: 0;clip: rect(1px 1px 1px 1px);clip: rect(1px, 1px, 1px, 1px);height: 1px;margin: -1px;overflow: hidden;padding: 0;position: absolute;width: 1px;}#sk-container-id-21 div.sk-estimator {font-family: monospace;background-color: #f0f8ff;border: 1px dotted black;border-radius: 0.25em;box-sizing: border-box;margin-bottom: 0.5em;}#sk-container-id-21 div.sk-estimator:hover {background-color: #d4ebff;}#sk-container-id-21 div.sk-parallel-item::after {content: \"\";width: 100%;border-bottom: 1px solid gray;flex-grow: 1;}#sk-container-id-21 div.sk-label:hover label.sk-toggleable__label {background-color: #d4ebff;}#sk-container-id-21 div.sk-serial::before {content: \"\";position: absolute;border-left: 1px solid gray;box-sizing: border-box;top: 0;bottom: 0;left: 50%;z-index: 0;}#sk-container-id-21 div.sk-serial {display: flex;flex-direction: column;align-items: center;background-color: white;padding-right: 0.2em;padding-left: 0.2em;position: relative;}#sk-container-id-21 div.sk-item {position: relative;z-index: 1;}#sk-container-id-21 div.sk-parallel {display: flex;align-items: stretch;justify-content: center;background-color: white;position: relative;}#sk-container-id-21 div.sk-item::before, #sk-container-id-21 div.sk-parallel-item::before {content: \"\";position: absolute;border-left: 1px solid gray;box-sizing: border-box;top: 0;bottom: 0;left: 50%;z-index: -1;}#sk-container-id-21 div.sk-parallel-item {display: flex;flex-direction: column;z-index: 1;position: relative;background-color: white;}#sk-container-id-21 div.sk-parallel-item:first-child::after {align-self: flex-end;width: 50%;}#sk-container-id-21 div.sk-parallel-item:last-child::after {align-self: flex-start;width: 50%;}#sk-container-id-21 div.sk-parallel-item:only-child::after {width: 0;}#sk-container-id-21 div.sk-dashed-wrapped {border: 1px dashed gray;margin: 0 0.4em 0.5em 0.4em;box-sizing: border-box;padding-bottom: 0.4em;background-color: white;}#sk-container-id-21 div.sk-label label {font-family: monospace;font-weight: bold;display: inline-block;line-height: 1.2em;}#sk-container-id-21 div.sk-label-container {text-align: center;}#sk-container-id-21 div.sk-container {/* jupyter's `normalize.less` sets `[hidden] { display: none; }` but bootstrap.min.css set `[hidden] { display: none !important; }` so we also need the `!important` here to be able to override the default hidden behavior on the sphinx rendered scikit-learn.org. See: https://github.com/scikit-learn/scikit-learn/issues/21755 */display: inline-block !important;position: relative;}#sk-container-id-21 div.sk-text-repr-fallback {display: none;}</style><div id=\"sk-container-id-21\" class=\"sk-top-container\"><div class=\"sk-text-repr-fallback\"><pre>MultinomialNB(alpha=1)</pre><b>In a Jupyter environment, please rerun this cell to show the HTML representation or trust the notebook. <br />On GitHub, the HTML representation is unable to render, please try loading this page with nbviewer.org.</b></div><div class=\"sk-container\" hidden><div class=\"sk-item\"><div class=\"sk-estimator sk-toggleable\"><input class=\"sk-toggleable__control sk-hidden--visually\" id=\"sk-estimator-id-21\" type=\"checkbox\" checked><label for=\"sk-estimator-id-21\" class=\"sk-toggleable__label sk-toggleable__label-arrow\">MultinomialNB</label><div class=\"sk-toggleable__content\"><pre>MultinomialNB(alpha=1)</pre></div></div></div></div></div>"
      ],
      "text/plain": [
       "MultinomialNB(alpha=1)"
      ]
     },
     "execution_count": 615,
     "metadata": {},
     "output_type": "execute_result"
    }
   ],
   "source": [
    "from sklearn.naive_bayes import MultinomialNB\n",
    "from sklearn import metrics\n",
    "\n",
    "naive_bayes = MultinomialNB(alpha=1)\n",
    "naive_bayes.fit(X_train, y_train)\n",
    "\n",
    "# y_predicteds = model.predict(X_train)"
   ]
  },
  {
   "cell_type": "code",
   "execution_count": 616,
   "id": "3b4f0267-dfe9-4f24-af79-9f8ad585a9ac",
   "metadata": {},
   "outputs": [
    {
     "data": {
      "text/plain": [
       "0.8293423874195854"
      ]
     },
     "execution_count": 616,
     "metadata": {},
     "output_type": "execute_result"
    }
   ],
   "source": [
    "# train accuracy\n",
    "naive_bayes.score(X_train, y_train)"
   ]
  },
  {
   "cell_type": "code",
   "execution_count": 617,
   "id": "197b9a6d-5545-41a2-8460-1bf9f6605b78",
   "metadata": {},
   "outputs": [
    {
     "data": {
      "text/plain": [
       "0.7845659163987139"
      ]
     },
     "execution_count": 617,
     "metadata": {},
     "output_type": "execute_result"
    }
   ],
   "source": [
    "# test accuracy\n",
    "naive_bayes.score(X_val, y_val)"
   ]
  },
  {
   "cell_type": "code",
   "execution_count": 618,
   "id": "6b256d57-ce32-4976-8214-04d0aec66fab",
   "metadata": {},
   "outputs": [
    {
     "name": "stdout",
     "output_type": "stream",
     "text": [
      "How does model Naive Bayes score:\n",
      "The accuracy of the model is: 0.785\n",
      "The precision of the model is: 0.838\n",
      "The recall of the model is: 0.712\n",
      "The f1-score of the model is: 0.769\n"
     ]
    }
   ],
   "source": [
    "# Create the predicted tags: pred\n",
    "pred = naive_bayes.predict(X_val)\n",
    "\n",
    "print_evaluations(y_val, pred, \"Naive Bayes\")"
   ]
  },
  {
   "cell_type": "code",
   "execution_count": 619,
   "id": "9c1107a3-bde5-4ad7-a14d-64ebd2f4d382",
   "metadata": {},
   "outputs": [
    {
     "data": {
      "text/plain": [
       "array([[793, 130],\n",
       "       [272, 671]])"
      ]
     },
     "execution_count": 619,
     "metadata": {},
     "output_type": "execute_result"
    }
   ],
   "source": [
    "metrics.confusion_matrix(y_val, pred)"
   ]
  },
  {
   "cell_type": "code",
   "execution_count": 620,
   "id": "a232eb37-2ef6-4337-a28a-10fa797a7b55",
   "metadata": {},
   "outputs": [
    {
     "name": "stderr",
     "output_type": "stream",
     "text": [
      "/Users/nadine/anaconda3/lib/python3.10/site-packages/sklearn/base.py:420: UserWarning: X does not have valid feature names, but MultinomialNB was fitted with feature names\n",
      "  warnings.warn(\n"
     ]
    },
    {
     "data": {
      "text/plain": [
       "'Spice Girls'"
      ]
     },
     "execution_count": 620,
     "metadata": {},
     "output_type": "execute_result"
    }
   ],
   "source": [
    "test_string = [\"wannabe\"]\n",
    "X_vectorizer_test = count_vectorizer.transform(test_string)\n",
    "X_norm_test = tfid_transformer.fit_transform(X_vectorizer_test)\n",
    "pred = naive_bayes.predict(X_norm_test)\n",
    "pred[0]"
   ]
  },
  {
   "cell_type": "code",
   "execution_count": 621,
   "id": "50e4c943-7704-4c06-bc40-b0b8b1426084",
   "metadata": {},
   "outputs": [
    {
     "data": {
      "text/plain": [
       "'Spice Girls'"
      ]
     },
     "execution_count": 621,
     "metadata": {},
     "output_type": "execute_result"
    }
   ],
   "source": [
    "X_vec_test = tf_vectorizer.transform(test_string)\n",
    "pred = naive_bayes.predict(X_vec_test)\n",
    "pred[0]"
   ]
  },
  {
   "cell_type": "markdown",
   "id": "7a444efe-64fb-4a9a-8616-f7bf961fdd53",
   "metadata": {},
   "source": [
    "# 6. Save Models"
   ]
  },
  {
   "cell_type": "code",
   "execution_count": null,
   "id": "33b98d16-c137-4634-8480-fec240634ae9",
   "metadata": {},
   "outputs": [],
   "source": [
    "# set models in a dictionary\n",
    "models = {'count_vectorizer':count_vectorizer,\n",
    "          'tfid_transformer':tfid_transformer,\n",
    "          'naive_bayes':clf_NB}\n",
    "\n",
    "for filename, model in models.items():\n",
    "    gf.save_model(\"models/\"+filename,model)"
   ]
  },
  {
   "cell_type": "code",
   "execution_count": null,
   "id": "0c9f74b3-377c-47fa-b90d-3caa1d43e4ea",
   "metadata": {},
   "outputs": [],
   "source": []
  }
 ],
 "metadata": {
  "kernelspec": {
   "display_name": "Python 3 (ipykernel)",
   "language": "python",
   "name": "python3"
  },
  "language_info": {
   "codemirror_mode": {
    "name": "ipython",
    "version": 3
   },
   "file_extension": ".py",
   "mimetype": "text/x-python",
   "name": "python",
   "nbconvert_exporter": "python",
   "pygments_lexer": "ipython3",
   "version": "3.10.9"
  }
 },
 "nbformat": 4,
 "nbformat_minor": 5
}
